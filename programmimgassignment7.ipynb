{
 "cells": [
  {
   "cell_type": "code",
   "execution_count": 10,
   "id": "430015f8",
   "metadata": {},
   "outputs": [
    {
     "name": "stdout",
     "output_type": "stream",
     "text": [
      "15\n"
     ]
    }
   ],
   "source": [
    "#ans-1\n",
    "import array\n",
    "def sum_of_array(n):\n",
    "    sum = 0\n",
    "    values= array.array('i',n)\n",
    "    for i in range(len(values)):\n",
    "        sum = sum + values[i]\n",
    "    print(sum)\n",
    "sum_of_array([1,2,3,4,5])\n",
    "        "
   ]
  },
  {
   "cell_type": "code",
   "execution_count": 38,
   "id": "0a4d4e76",
   "metadata": {},
   "outputs": [
    {
     "name": "stdout",
     "output_type": "stream",
     "text": [
      "[1, 2, 3, 4, 5]\n",
      "5\n"
     ]
    }
   ],
   "source": [
    "#ans-2\n",
    "import array\n",
    "def highest_of_array(n):\n",
    "    values= array.array('i',n)\n",
    "    sort = sorted(values)\n",
    "    print(sort)\n",
    "    sort.reverse()\n",
    "    print(sort[0])\n",
    "    \n",
    "    \n",
    "highest_of_array([2,1,3,4,5])"
   ]
  },
  {
   "cell_type": "code",
   "execution_count": 67,
   "id": "9ed7897c",
   "metadata": {},
   "outputs": [
    {
     "data": {
      "text/plain": [
       "[3, 4, 5, 6, 1, 2]"
      ]
     },
     "execution_count": 67,
     "metadata": {},
     "output_type": "execute_result"
    }
   ],
   "source": [
    "#ans-3\n",
    "def arrayrotation(arr , d ):\n",
    "    temp = []\n",
    "    for i in range(d):\n",
    "        temp = arr[0]\n",
    "        \n",
    "        for i in range(0 ,len(arr)-1 ):\n",
    "            arr[i]= arr[i+1]\n",
    "        arr[len(arr)-1] = temp\n",
    "    return arr\n",
    "        \n",
    "    \n",
    "arrayrotation([1,2,3,4,5,6] , 2)\n",
    "            \n",
    "        "
   ]
  },
  {
   "cell_type": "code",
   "execution_count": 58,
   "id": "5c74a501",
   "metadata": {},
   "outputs": [
    {
     "data": {
      "text/plain": [
       "[1, 2, 3, 4]"
      ]
     },
     "execution_count": 58,
     "metadata": {},
     "output_type": "execute_result"
    }
   ],
   "source": [
    "a = [1,2,3,4]\n"
   ]
  },
  {
   "cell_type": "code",
   "execution_count": 73,
   "id": "bac65143",
   "metadata": {},
   "outputs": [
    {
     "name": "stdout",
     "output_type": "stream",
     "text": [
      "befor split [1, 2, 3, 4, 5, 6, 7, 8, 9, 10]\n"
     ]
    },
    {
     "data": {
      "text/plain": [
       "('after split', [6, 7, 8, 9, 10, 1, 2, 3, 4, 5])"
      ]
     },
     "execution_count": 73,
     "metadata": {},
     "output_type": "execute_result"
    }
   ],
   "source": [
    "#ans-4\n",
    "def initialarr(arr):\n",
    "    print(\"befor split\" , arr)\n",
    "def splitarray(arr , split):\n",
    "    temp = []\n",
    "    for i in range(split):\n",
    "        temp = arr[0]\n",
    "        \n",
    "        for i in range(0 , len(arr)-1):\n",
    "            arr[i] = arr[i+1]\n",
    "        arr[len(arr)-1] = temp\n",
    "    \n",
    "    return \"after split\" ,arr\n",
    "\n",
    "initialarr([1,2,3,4,5,6,7,8,9,10])\n",
    "splitarray([1,2,3,4,5,6,7,8,9,10],5)"
   ]
  },
  {
   "cell_type": "code",
   "execution_count": 122,
   "id": "8e8f3f16",
   "metadata": {},
   "outputs": [
    {
     "name": "stdout",
     "output_type": "stream",
     "text": [
      "initial arr [7, 6, 5]\n"
     ]
    },
    {
     "data": {
      "text/plain": [
       "('monotonic decreasing', [7, 6, 5])"
      ]
     },
     "execution_count": 122,
     "metadata": {},
     "output_type": "execute_result"
    }
   ],
   "source": [
    "#ans-5\n",
    "def monotonic(arr):\n",
    "    print(\"initial arr\" , arr)\n",
    "    if all(arr[i] <= arr[i+1] for i in range(0,len(arr)-1)):return \"monotonic increasing\"  ,arr\n",
    "    elif all(arr[i] >= arr[i+1] for i in range(0,len(arr)-1)):return \"monotonic decreasing\" , arr\n",
    "    else:\n",
    "        return \"not\" , arr\n",
    "monotonic([7,6,5])\n"
   ]
  },
  {
   "cell_type": "code",
   "execution_count": null,
   "id": "ab54d627",
   "metadata": {},
   "outputs": [],
   "source": []
  },
  {
   "cell_type": "code",
   "execution_count": null,
   "id": "b7cd708e",
   "metadata": {},
   "outputs": [],
   "source": []
  }
 ],
 "metadata": {
  "kernelspec": {
   "display_name": "Python 3 (ipykernel)",
   "language": "python",
   "name": "python3"
  },
  "language_info": {
   "codemirror_mode": {
    "name": "ipython",
    "version": 3
   },
   "file_extension": ".py",
   "mimetype": "text/x-python",
   "name": "python",
   "nbconvert_exporter": "python",
   "pygments_lexer": "ipython3",
   "version": "3.9.7"
  }
 },
 "nbformat": 4,
 "nbformat_minor": 5
}
