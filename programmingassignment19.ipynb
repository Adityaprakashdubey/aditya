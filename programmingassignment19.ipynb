{
 "cells": [
  {
   "cell_type": "code",
   "execution_count": 10,
   "id": "3dca00ed",
   "metadata": {},
   "outputs": [
    {
     "name": "stdout",
     "output_type": "stream",
     "text": [
      "hello World → \"hheelllloo  WWoorrlldd\"\n"
     ]
    }
   ],
   "source": [
    "#ans-1\n",
    "def repeated_character(s):\n",
    "    l = []\n",
    "    for i in s:\n",
    "        l.append(str(i))\n",
    "        l.append(str(i))\n",
    "    print(f'{s} → \"{\"\".join(l)}\"')\n",
    "    \n",
    "repeated_character(\"hello World\")        \n",
    "\n"
   ]
  },
  {
   "cell_type": "code",
   "execution_count": 40,
   "id": "b6c481f5",
   "metadata": {},
   "outputs": [
    {
     "name": "stdout",
     "output_type": "stream",
     "text": [
      "reverse → False\n",
      "reverse → boolean expected\n"
     ]
    }
   ],
   "source": [
    "#ans-2\n",
    "def boolean_expected(s):\n",
    "    if type(s) == bool:\n",
    "        return not s\n",
    "    else :\n",
    "        \n",
    "        return \"boolean expected\"\n",
    "    \n",
    "\n",
    "print(f'reverse → {boolean_expected(True)}')\n",
    "\n",
    "print(f'reverse → {boolean_expected(\"hgfjuyg\")}')\n",
    "     \n",
    "        \n"
   ]
  },
  {
   "cell_type": "code",
   "execution_count": 45,
   "id": "11c35c71",
   "metadata": {},
   "outputs": [
    {
     "name": "stdout",
     "output_type": "stream",
     "text": [
      "output = 0.001m\n",
      "output = 0.008m\n"
     ]
    }
   ],
   "source": [
    "#ans-3\n",
    "def layer(num):\n",
    "    thickness = .5\n",
    "    for i in range(num):\n",
    "        thickness*=2\n",
    "    print(f'output = {thickness/1000}m')\n",
    "layer(1)\n",
    "layer(4)"
   ]
  },
  {
   "cell_type": "code",
   "execution_count": 77,
   "id": "87863831",
   "metadata": {},
   "outputs": [
    {
     "name": "stdout",
     "output_type": "stream",
     "text": [
      "eDaBit = [1, 3]\n"
     ]
    }
   ],
   "source": [
    "#ans-4\n",
    "def ordered_list(s):\n",
    "    \n",
    "    l = []\n",
    "    for j in s:\n",
    "        l.append(j)\n",
    "  \n",
    "    l1 = []\n",
    "        \n",
    "    for i in range(len(l)):\n",
    "        \n",
    "        if l[i].isupper():\n",
    "            #print(i)\n",
    "            l1.append(l.index(l[i]))\n",
    "    print(f'{s} = {l1}')\n",
    "\n",
    "ordered_list(\"eDaBit\")      \n",
    "    \n",
    "        "
   ]
  },
  {
   "cell_type": "code",
   "execution_count": 82,
   "id": "4fdd1c30",
   "metadata": {},
   "outputs": [
    {
     "name": "stdout",
     "output_type": "stream",
     "text": [
      "[2, 4, 6, 8, 10, 12, 14, 16, 18, 20]\n"
     ]
    }
   ],
   "source": [
    "#ans-5\n",
    "def even_using_list_comprehension(num):\n",
    "    l = [i for i in range(1,num+1) if i %2== 0]\n",
    "    print(l)\n",
    "even_using_list_comprehension(20)"
   ]
  },
  {
   "cell_type": "code",
   "execution_count": null,
   "id": "8e0e1790",
   "metadata": {},
   "outputs": [],
   "source": []
  }
 ],
 "metadata": {
  "kernelspec": {
   "display_name": "Python 3 (ipykernel)",
   "language": "python",
   "name": "python3"
  },
  "language_info": {
   "codemirror_mode": {
    "name": "ipython",
    "version": 3
   },
   "file_extension": ".py",
   "mimetype": "text/x-python",
   "name": "python",
   "nbconvert_exporter": "python",
   "pygments_lexer": "ipython3",
   "version": "3.9.7"
  }
 },
 "nbformat": 4,
 "nbformat_minor": 5
}
