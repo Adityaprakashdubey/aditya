{
 "cells": [
  {
   "cell_type": "code",
   "execution_count": 4,
   "id": "87ae7009",
   "metadata": {},
   "outputs": [
    {
     "name": "stdout",
     "output_type": "stream",
     "text": [
      "True\n",
      "False\n"
     ]
    }
   ],
   "source": [
    "#ans-1\n",
    "def symmetrical(n):\n",
    "    temp = n\n",
    "    rev = 0\n",
    "    while temp>0:\n",
    "        r = temp % 10\n",
    "        rev = rev*10 + r\n",
    "        \n",
    "        temp = temp//10\n",
    "        \n",
    "    if n== rev:\n",
    "        print(True)\n",
    "    else:\n",
    "        print(False)\n",
    "        \n",
    "symmetrical(7227)\n",
    "symmetrical(9939)"
   ]
  },
  {
   "cell_type": "code",
   "execution_count": 43,
   "id": "786cb013",
   "metadata": {},
   "outputs": [
    {
     "name": "stdout",
     "output_type": "stream",
     "text": [
      "6\n",
      "-48\n"
     ]
    }
   ],
   "source": [
    "#ans-2\n",
    "def multiply(s):\n",
    "    s1 = s.split(\",\")\n",
    "    #print(s1)\n",
    "   \n",
    "    sum = 1\n",
    "    for i in s1:\n",
    "        sum = sum*int(i)\n",
    "    print(sum)\n",
    "multiply(\"2,3\")\n",
    "multiply(\"2,3,4,-2\")"
   ]
  },
  {
   "cell_type": "code",
   "execution_count": 115,
   "id": "f1ff5257",
   "metadata": {},
   "outputs": [
    {
     "name": "stdout",
     "output_type": "stream",
     "text": [
      "811181\n",
      "9414\n"
     ]
    }
   ],
   "source": [
    "#ans-3\n",
    "def square(n):\n",
    "    j = str(n)\n",
    "    l = []\n",
    "    for i in j:\n",
    "        \n",
    "        #print(i)\n",
    "        l.append(str(int(i)**2))\n",
    "        #print(l)\n",
    "            \n",
    "    out = \"\".join(l)\n",
    "        \n",
    "    \n",
    "    print(out)\n",
    "  \n",
    "       \n",
    "\n",
    "square(9119)\n",
    "square(3212)"
   ]
  },
  {
   "cell_type": "code",
   "execution_count": 117,
   "id": "93570777",
   "metadata": {},
   "outputs": [
    {
     "name": "stdout",
     "output_type": "stream",
     "text": [
      "[1, 3, 5]\n"
     ]
    }
   ],
   "source": [
    "#ans-4\n",
    "def remove_duplicate(l):\n",
    "    charset = set()\n",
    "    for i in l:\n",
    "        charset.add(i)\n",
    "    print(list(charset))\n",
    "remove_duplicate([1,3,3,5,5])"
   ]
  },
  {
   "cell_type": "code",
   "execution_count": 138,
   "id": "5cfbd59f",
   "metadata": {},
   "outputs": [
    {
     "name": "stdout",
     "output_type": "stream",
     "text": [
      "3\n",
      "2\n"
     ]
    }
   ],
   "source": [
    "#ans-5\n",
    "def meanofdigit(n):\n",
    "    l = []\n",
    "    sum = 0\n",
    "    for i in str(n):\n",
    "        l.append(int(i))\n",
    "    for i in l:\n",
    "        sum = sum +i\n",
    "    mean = sum//len(l)\n",
    "    print(mean)\n",
    "        \n",
    "meanofdigit(42)\n",
    "meanofdigit(512)"
   ]
  },
  {
   "cell_type": "code",
   "execution_count": null,
   "id": "87f5f802",
   "metadata": {},
   "outputs": [],
   "source": []
  }
 ],
 "metadata": {
  "kernelspec": {
   "display_name": "Python 3 (ipykernel)",
   "language": "python",
   "name": "python3"
  },
  "language_info": {
   "codemirror_mode": {
    "name": "ipython",
    "version": 3
   },
   "file_extension": ".py",
   "mimetype": "text/x-python",
   "name": "python",
   "nbconvert_exporter": "python",
   "pygments_lexer": "ipython3",
   "version": "3.9.7"
  }
 },
 "nbformat": 4,
 "nbformat_minor": 5
}
