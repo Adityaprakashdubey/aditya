{
 "cells": [
  {
   "cell_type": "code",
   "execution_count": 18,
   "id": "c1a250ab",
   "metadata": {},
   "outputs": [
    {
     "name": "stdout",
     "output_type": "stream",
     "text": [
      "12\n"
     ]
    }
   ],
   "source": [
    "#ans-1\n",
    "def lcm(a,b):\n",
    "    if a > b:\n",
    "        greater = a\n",
    "    else:\n",
    "        greater = b\n",
    "    while(True):\n",
    "        if greater % a==0 and greater % b == 0:\n",
    "            lcm = greater \n",
    "            break\n",
    "            \n",
    "        else :\n",
    "            greater  += 1\n",
    "    print(lcm)\n",
    "lcm(4,6)"
   ]
  },
  {
   "cell_type": "code",
   "execution_count": 28,
   "id": "c230c980",
   "metadata": {},
   "outputs": [
    {
     "name": "stdout",
     "output_type": "stream",
     "text": [
      "\n",
      "\n",
      "Recursion Example Results\n",
      "1\n",
      "3\n",
      "6\n",
      "10\n",
      "15\n",
      "21\n"
     ]
    },
    {
     "data": {
      "text/plain": [
       "21"
      ]
     },
     "execution_count": 28,
     "metadata": {},
     "output_type": "execute_result"
    }
   ],
   "source": [
    "def tri_recursion(k):\n",
    "  if(k>0):\n",
    "    result = k+tri_recursion(k-1)\n",
    "    print(result)\n",
    "  else:\n",
    "    result = 0\n",
    "  return result\n",
    "\n",
    "print(\"\\n\\nRecursion Example Results\")\n",
    "tri_recursion(6)"
   ]
  },
  {
   "cell_type": "code",
   "execution_count": 1,
   "id": "fff7a11c",
   "metadata": {},
   "outputs": [
    {
     "name": "stdout",
     "output_type": "stream",
     "text": [
      "hcf is : 2\n"
     ]
    }
   ],
   "source": [
    "#ans-2\n",
    "def hcf(x,y):\n",
    "    if x<y:\n",
    "        smaller = x\n",
    "    else:\n",
    "        smaller = y\n",
    "    for i in range(1,smaller+1):\n",
    "        if x%i ==0 and y%i == 0:\n",
    "            hcf = i\n",
    "    print(\"hcf is :\" ,hcf)\n",
    "hcf(4,6)"
   ]
  },
  {
   "cell_type": "code",
   "execution_count": 17,
   "id": "7d513195",
   "metadata": {},
   "outputs": [
    {
     "name": "stdout",
     "output_type": "stream",
     "text": [
      "the decimal value is : 100\n",
      "binary 0b1100100\n",
      "octal 0o144\n",
      "hexadecimal 0x64\n"
     ]
    }
   ],
   "source": [
    "#ans-3\n",
    "def Convert_Decimal_to_Binary_Octal_and_Hexadecimal(decimal):\n",
    "    print(\"the decimal value is :\" ,decimal)\n",
    "    print(\"binary\",bin(decimal))\n",
    "    print(\"octal\",oct(decimal))\n",
    "    print(\"hexadecimal\",hex(decimal))\n",
    "Convert_Decimal_to_Binary_Octal_and_Hexadecimal(100)\n",
    "    "
   ]
  },
  {
   "cell_type": "code",
   "execution_count": 34,
   "id": "7f0ecbe8",
   "metadata": {},
   "outputs": [
    {
     "name": "stdout",
     "output_type": "stream",
     "text": [
      "ascii value is : 112\n"
     ]
    }
   ],
   "source": [
    "#ans-4\n",
    "def Ascii_value(character):\n",
    "    ab = character\n",
    "    print(\"ascii value is :\" , ord(ab))\n",
    "Ascii_value(\"p\")       "
   ]
  },
  {
   "cell_type": "code",
   "execution_count": 102,
   "id": "b03692fd",
   "metadata": {},
   "outputs": [
    {
     "name": "stdout",
     "output_type": "stream",
     "text": [
      "select the operation :            \n",
      " 1.add            \n",
      " 2.sub            \n",
      " 3.mul            \n",
      " 4.div\n",
      "enter valid operator-\n",
      "enter 1st number7\n",
      "enter 1st number3\n",
      "4\n"
     ]
    }
   ],
   "source": [
    "#ans-4\n",
    "import operator\n",
    "ops = {\"+\" : operator.add , \"-\": operator.sub , \"*\": operator.sub, \"/\":operator.truediv}\n",
    "print(\"select the operation :\\\n",
    "            \\n 1.add\\\n",
    "            \\n 2.sub\\\n",
    "            \\n 3.mul\\\n",
    "            \\n 4.div\")\n",
    "while(True):\n",
    "    operator  = input(\"enter valid operator\")\n",
    "\n",
    "    if operator == \"0\":\n",
    "            print(\"stop\")\n",
    "            break\n",
    "    elif operator not in [\"+\" , \"-\", \"*\" ,\"/\"]:\n",
    "            print(\"enter valid operator\")\n",
    "    else:\n",
    "        a = int(input(\"enter 1st number\"))\n",
    "        b = int(input(\"enter 1st number\")) \n",
    "        print(ops[operator](a,b))\n",
    "        break\n",
    "            \n",
    "            \n",
    "    "
   ]
  },
  {
   "cell_type": "code",
   "execution_count": null,
   "id": "966d26e3",
   "metadata": {},
   "outputs": [],
   "source": []
  },
  {
   "cell_type": "code",
   "execution_count": null,
   "id": "c56da4d2",
   "metadata": {},
   "outputs": [],
   "source": []
  }
 ],
 "metadata": {
  "kernelspec": {
   "display_name": "Python 3 (ipykernel)",
   "language": "python",
   "name": "python3"
  },
  "language_info": {
   "codemirror_mode": {
    "name": "ipython",
    "version": 3
   },
   "file_extension": ".py",
   "mimetype": "text/x-python",
   "name": "python",
   "nbconvert_exporter": "python",
   "pygments_lexer": "ipython3",
   "version": "3.9.7"
  }
 },
 "nbformat": 4,
 "nbformat_minor": 5
}
