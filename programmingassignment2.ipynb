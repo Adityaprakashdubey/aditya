{
 "cells": [
  {
   "cell_type": "code",
   "execution_count": 4,
   "id": "925c92a6",
   "metadata": {},
   "outputs": [],
   "source": [
    "#ans-1\n",
    "def kilometer_to_miles(kilometer):\n",
    "    miles = kilometer*.621371\n",
    "    print(\"{} km is equal to {} miles\".format(kilometer,miles))\n"
   ]
  },
  {
   "cell_type": "code",
   "execution_count": 5,
   "id": "b1be1972",
   "metadata": {},
   "outputs": [
    {
     "name": "stdout",
     "output_type": "stream",
     "text": [
      "10 km is equal to 6.21371 miles\n"
     ]
    }
   ],
   "source": [
    "kilometer_to_miles(10)"
   ]
  },
  {
   "cell_type": "code",
   "execution_count": 6,
   "id": "3fa4d544",
   "metadata": {},
   "outputs": [],
   "source": [
    "#ans-2\n",
    "def celcius_to_faren(celcius):\n",
    "    farenh = (celcius * 1.8) + 32\n",
    "    print(\"{} degree celcius is equal to {} farenh \".format(celcius,farenh))\n"
   ]
  },
  {
   "cell_type": "code",
   "execution_count": 7,
   "id": "c7ed21f0",
   "metadata": {},
   "outputs": [
    {
     "name": "stdout",
     "output_type": "stream",
     "text": [
      "37 degree celcius is equal to 98.60000000000001 farenh \n"
     ]
    }
   ],
   "source": [
    "celcius_to_faren(37)"
   ]
  },
  {
   "cell_type": "code",
   "execution_count": 8,
   "id": "f585866c",
   "metadata": {},
   "outputs": [],
   "source": [
    "#ans-3\n",
    "import calendar\n",
    "def show_calendar(year):\n",
    "    c  = calendar.calendar(year)\n",
    "    print(c)\n"
   ]
  },
  {
   "cell_type": "code",
   "execution_count": 9,
   "id": "4f48e9aa",
   "metadata": {
    "scrolled": true
   },
   "outputs": [
    {
     "name": "stdout",
     "output_type": "stream",
     "text": [
      "                                  2011\n",
      "\n",
      "      January                   February                   March\n",
      "Mo Tu We Th Fr Sa Su      Mo Tu We Th Fr Sa Su      Mo Tu We Th Fr Sa Su\n",
      "                1  2          1  2  3  4  5  6          1  2  3  4  5  6\n",
      " 3  4  5  6  7  8  9       7  8  9 10 11 12 13       7  8  9 10 11 12 13\n",
      "10 11 12 13 14 15 16      14 15 16 17 18 19 20      14 15 16 17 18 19 20\n",
      "17 18 19 20 21 22 23      21 22 23 24 25 26 27      21 22 23 24 25 26 27\n",
      "24 25 26 27 28 29 30      28                        28 29 30 31\n",
      "31\n",
      "\n",
      "       April                      May                       June\n",
      "Mo Tu We Th Fr Sa Su      Mo Tu We Th Fr Sa Su      Mo Tu We Th Fr Sa Su\n",
      "             1  2  3                         1             1  2  3  4  5\n",
      " 4  5  6  7  8  9 10       2  3  4  5  6  7  8       6  7  8  9 10 11 12\n",
      "11 12 13 14 15 16 17       9 10 11 12 13 14 15      13 14 15 16 17 18 19\n",
      "18 19 20 21 22 23 24      16 17 18 19 20 21 22      20 21 22 23 24 25 26\n",
      "25 26 27 28 29 30         23 24 25 26 27 28 29      27 28 29 30\n",
      "                          30 31\n",
      "\n",
      "        July                     August                  September\n",
      "Mo Tu We Th Fr Sa Su      Mo Tu We Th Fr Sa Su      Mo Tu We Th Fr Sa Su\n",
      "             1  2  3       1  2  3  4  5  6  7                1  2  3  4\n",
      " 4  5  6  7  8  9 10       8  9 10 11 12 13 14       5  6  7  8  9 10 11\n",
      "11 12 13 14 15 16 17      15 16 17 18 19 20 21      12 13 14 15 16 17 18\n",
      "18 19 20 21 22 23 24      22 23 24 25 26 27 28      19 20 21 22 23 24 25\n",
      "25 26 27 28 29 30 31      29 30 31                  26 27 28 29 30\n",
      "\n",
      "      October                   November                  December\n",
      "Mo Tu We Th Fr Sa Su      Mo Tu We Th Fr Sa Su      Mo Tu We Th Fr Sa Su\n",
      "                1  2          1  2  3  4  5  6                1  2  3  4\n",
      " 3  4  5  6  7  8  9       7  8  9 10 11 12 13       5  6  7  8  9 10 11\n",
      "10 11 12 13 14 15 16      14 15 16 17 18 19 20      12 13 14 15 16 17 18\n",
      "17 18 19 20 21 22 23      21 22 23 24 25 26 27      19 20 21 22 23 24 25\n",
      "24 25 26 27 28 29 30      28 29 30                  26 27 28 29 30 31\n",
      "31\n",
      "\n"
     ]
    }
   ],
   "source": [
    "show_calendar(2011)"
   ]
  },
  {
   "cell_type": "code",
   "execution_count": 16,
   "id": "3bb777d4",
   "metadata": {},
   "outputs": [],
   "source": [
    "#ans-4\n",
    "import cmath\n",
    "import math\n",
    "\n",
    "def quadarticEquationRoots(a,b,c):\n",
    "        discriminant = b*b - 4 *a*c\n",
    "        if discriminant ==0:\n",
    "            root1 = -b/2*a\n",
    "            root2 = -b/2*a\n",
    "            print(\"{} , {} roots are real\".format(root1,root2))\n",
    "        elif discriminant >0:\n",
    "            root1 = (-b -math.sqrt(discriminant))/(2*a)\n",
    "            root2 = (+b -math.sqrt(discriminant))/(2*a)\n",
    "            print(\"{} , {} roots are real and different\".format(root1,root2))\n",
    "        else:\n",
    "            root1 = (-b -cmath.sqrt(discriminant))/(2*a)\n",
    "            root2 = (-b -cmath.sqrt(discriminant))/(2*a)\n",
    "            print(\"{} , {} roots are imginary\".format(root1,root2))\n",
    "\n",
    "    \n",
    "            \n",
    "    \n",
    "   "
   ]
  },
  {
   "cell_type": "code",
   "execution_count": 17,
   "id": "edc66aef",
   "metadata": {},
   "outputs": [
    {
     "name": "stdout",
     "output_type": "stream",
     "text": [
      "-1.0 , -1.0 roots are real\n"
     ]
    }
   ],
   "source": [
    "quadarticEquationRoots(1,2,1)"
   ]
  },
  {
   "cell_type": "code",
   "execution_count": 23,
   "id": "e3afc7ae",
   "metadata": {},
   "outputs": [
    {
     "name": "stdout",
     "output_type": "stream",
     "text": [
      "before swap : 5 10\n",
      "after swap : 10 5\n"
     ]
    }
   ],
   "source": [
    "#Ans-5\n",
    "def swap_two_variable_without_temp(a,b):#a= 5 ,b=10\n",
    "    print(\"before swap :\",a,b)\n",
    "    a = a+b  # a= 15\n",
    "    b = a-b   #b = 5\n",
    "    a = a-b  #c\n",
    "    print(\"after swap :\" ,a,b)\n",
    "swap_two_variable_without_temp(5,10)    "
   ]
  },
  {
   "cell_type": "code",
   "execution_count": null,
   "id": "f1238988",
   "metadata": {},
   "outputs": [],
   "source": []
  }
 ],
 "metadata": {
  "kernelspec": {
   "display_name": "Python 3 (ipykernel)",
   "language": "python",
   "name": "python3"
  },
  "language_info": {
   "codemirror_mode": {
    "name": "ipython",
    "version": 3
   },
   "file_extension": ".py",
   "mimetype": "text/x-python",
   "name": "python",
   "nbconvert_exporter": "python",
   "pygments_lexer": "ipython3",
   "version": "3.9.7"
  }
 },
 "nbformat": 4,
 "nbformat_minor": 5
}
