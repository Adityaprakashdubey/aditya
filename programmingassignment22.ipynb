{
 "cells": [
  {
   "cell_type": "code",
   "execution_count": 9,
   "id": "e3072e92",
   "metadata": {},
   "outputs": [
    {
     "name": "stdout",
     "output_type": "stream",
     "text": [
      "[]\n"
     ]
    }
   ],
   "source": [
    "#ans-1\n",
    "def ans(x,y,z):\n",
    "    l = []\n",
    "    for i in range(x,y+1):\n",
    "        if i % z == 0:\n",
    "            l.append(i)\n",
    "    \n",
    "    print(l)\n",
    "    \n",
    "    \n",
    "ans(1,10,11)\n",
    "\n"
   ]
  },
  {
   "cell_type": "code",
   "execution_count": 10,
   "id": "9e2e5603",
   "metadata": {},
   "outputs": [
    {
     "name": "stdout",
     "output_type": "stream",
     "text": [
      "[3, 6, 9]\n"
     ]
    }
   ],
   "source": [
    "#ans-1\n",
    "def ans(x,y,z):\n",
    "    l = []\n",
    "    for i in range(x,y+1):\n",
    "        if i % z == 0:\n",
    "            l.append(i)\n",
    "    \n",
    "    print(l)\n",
    "    \n",
    "    \n",
    "ans(1,10,3)\n",
    "\n"
   ]
  },
  {
   "cell_type": "code",
   "execution_count": 20,
   "id": "af00b27f",
   "metadata": {},
   "outputs": [
    {
     "name": "stdout",
     "output_type": "stream",
     "text": [
      "False\n",
      "True\n"
     ]
    }
   ],
   "source": [
    "#ans-2\n",
    "def qwe(l,l1):\n",
    "    if len(l) == len(l1) and len(l1) >=2 and len(l)>=2:\n",
    "        if l[:-1] == l1[1:]:\n",
    "            print(True)\n",
    "        else:\n",
    "            print(False)\n",
    "qwe([1,2],[5,5])\n",
    "qwe([1,2,3,4,5],[0,1,2,3,4])"
   ]
  },
  {
   "cell_type": "code",
   "execution_count": 47,
   "id": "93b9f8ea",
   "metadata": {},
   "outputs": [
    {
     "name": "stdout",
     "output_type": "stream",
     "text": [
      "['Adam', 'Sarah', 'Dub'] = \"ASD\"\n"
     ]
    }
   ],
   "source": [
    "#ans-3\n",
    "def listting(l1):\n",
    "    l = []\n",
    "    for i in l1:\n",
    "        l.append(i[0])\n",
    "    outout = \"\".join(l)\n",
    "    print(f'{l1} = \"{outout}\"')\n",
    "         \n",
    "listting([\"Adam\",\"Sarah\",\"Dub\"])"
   ]
  },
  {
   "cell_type": "code",
   "execution_count": 51,
   "id": "e82129b3",
   "metadata": {},
   "outputs": [
    {
     "name": "stdout",
     "output_type": "stream",
     "text": [
      "True\n"
     ]
    }
   ],
   "source": [
    "#ans-4\n",
    "def is_isogram(s):\n",
    "    \n",
    "    if len(s)== len(set(s)):\n",
    "        print(True)\n",
    "    else:\n",
    "        print(False)\n",
    "is_isogram(\"algorism\")"
   ]
  },
  {
   "cell_type": "code",
   "execution_count": 65,
   "id": "ab5ab412",
   "metadata": {},
   "outputs": [
    {
     "name": "stdout",
     "output_type": "stream",
     "text": [
      "True\n",
      "False\n"
     ]
    }
   ],
   "source": [
    "#ans-5\n",
    "def order_or_not(s):\n",
    "    j = \"\".join(sorted(s))\n",
    "    if s == j:\n",
    "        print(True)\n",
    "    else:\n",
    "        print(False)\n",
    "order_or_not(\"abc\")\n",
    "order_or_not(\"sdasdq\")\n",
    "    \n",
    "    "
   ]
  },
  {
   "cell_type": "code",
   "execution_count": null,
   "id": "e141ec39",
   "metadata": {},
   "outputs": [],
   "source": []
  },
  {
   "cell_type": "code",
   "execution_count": null,
   "id": "1876fa5d",
   "metadata": {},
   "outputs": [],
   "source": []
  }
 ],
 "metadata": {
  "kernelspec": {
   "display_name": "Python 3 (ipykernel)",
   "language": "python",
   "name": "python3"
  },
  "language_info": {
   "codemirror_mode": {
    "name": "ipython",
    "version": 3
   },
   "file_extension": ".py",
   "mimetype": "text/x-python",
   "name": "python",
   "nbconvert_exporter": "python",
   "pygments_lexer": "ipython3",
   "version": "3.9.7"
  }
 },
 "nbformat": 4,
 "nbformat_minor": 5
}
