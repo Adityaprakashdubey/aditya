{
 "cells": [
  {
   "cell_type": "code",
   "execution_count": 1,
   "id": "b326bed4",
   "metadata": {},
   "outputs": [],
   "source": [
    "#Ans-1\n",
    "# dic = {}"
   ]
  },
  {
   "cell_type": "code",
   "execution_count": 3,
   "id": "1289d0d4",
   "metadata": {},
   "outputs": [
    {
     "data": {
      "text/plain": [
       "dict_values([42])"
      ]
     },
     "execution_count": 3,
     "metadata": {},
     "output_type": "execute_result"
    }
   ],
   "source": [
    "#Ans-2\n",
    "dic = {\"foo\" : 42}\n",
    "dic.values()"
   ]
  },
  {
   "cell_type": "code",
   "execution_count": 4,
   "id": "2a668f17",
   "metadata": {},
   "outputs": [],
   "source": [
    "#ans-3\n",
    "#Dictionaries are represented by {} where as listed are represented by []\n",
    "#The Items stored in a dictionary are Unordered , while the items in a list are ordered"
   ]
  },
  {
   "cell_type": "code",
   "execution_count": 5,
   "id": "5e7109e5",
   "metadata": {},
   "outputs": [],
   "source": [
    "#ans-4\n",
    "#error"
   ]
  },
  {
   "cell_type": "code",
   "execution_count": 6,
   "id": "c8aa80d4",
   "metadata": {},
   "outputs": [],
   "source": [
    "#ans-5\n",
    "spam = {}\n",
    "#spam cat can be either key or values whereas spam.keys() will return the keys in spam"
   ]
  },
  {
   "cell_type": "code",
   "execution_count": 7,
   "id": "1e1d94ab",
   "metadata": {},
   "outputs": [],
   "source": [
    "#ans-6\n",
    "#expression cat will check for key whereas spam.values() will return the value of the key cat "
   ]
  },
  {
   "cell_type": "code",
   "execution_count": 9,
   "id": "8e367dc2",
   "metadata": {},
   "outputs": [
    {
     "ename": "SyntaxError",
     "evalue": "EOL while scanning string literal (Temp/ipykernel_29680/1274281377.py, line 3)",
     "output_type": "error",
     "traceback": [
      "\u001b[1;36m  File \u001b[1;32m\"C:\\Users\\91941\\AppData\\Local\\Temp/ipykernel_29680/1274281377.py\"\u001b[1;36m, line \u001b[1;32m3\u001b[0m\n\u001b[1;33m    spam['color'] ='black\u001b[0m\n\u001b[1;37m                         ^\u001b[0m\n\u001b[1;31mSyntaxError\u001b[0m\u001b[1;31m:\u001b[0m EOL while scanning string literal\n"
     ]
    }
   ],
   "source": [
    "#Ans-7\n",
    "if 'color' not in spam:\n",
    "    spam['color'] ='black\n",
    "#ans spam.setdefault('color','black')"
   ]
  },
  {
   "cell_type": "code",
   "execution_count": 27,
   "id": "3d12436a",
   "metadata": {},
   "outputs": [],
   "source": [
    "#ANS-8\n",
    "import pprint \n",
    "def pretty(**kargs):\n",
    "    print(\"using preety print\")\n",
    "    pprint.pprint(kargs)"
   ]
  },
  {
   "cell_type": "code",
   "execution_count": 26,
   "id": "5d32404f",
   "metadata": {},
   "outputs": [
    {
     "name": "stdout",
     "output_type": "stream",
     "text": [
      "using preety print\n",
      "{'ndict': [{'Age': '23',\n",
      "            'Name': 'John',\n",
      "            'Residence': {'City': 'New York', 'Country': 'USA'}},\n",
      "           {'Age': '44',\n",
      "            'Name': 'Jose',\n",
      "            'Residence': {'City': 'Madrid', 'Country': 'Spain'}},\n",
      "           {'Age': '29',\n",
      "            'Name': 'Anne',\n",
      "            'Residence': {'City': 'England', 'Country': 'UK'}},\n",
      "           {'Age': '35',\n",
      "            'Name': 'Lee',\n",
      "            'Residence': {'City': 'Osaka', 'Country': 'Japan'}}]}\n"
     ]
    }
   ],
   "source": [
    "pretty(ndict = [\n",
    "  {'Name': 'John', 'Age': '23', 'Residence': {'Country':'USA', 'City': 'New York'}},\n",
    "  {'Name': 'Jose', 'Age': '44', 'Residence': {'Country':'Spain', 'City': 'Madrid'}},\n",
    "  {'Name': 'Anne', 'Age': '29', 'Residence': {'Country':'UK', 'City': 'England'}},\n",
    "  {'Name': 'Lee', 'Age': '35', 'Residence': {'Country':'Japan', 'City': 'Osaka'}}\n",
    "])"
   ]
  },
  {
   "cell_type": "code",
   "execution_count": null,
   "id": "4c3f10b5",
   "metadata": {},
   "outputs": [],
   "source": []
  }
 ],
 "metadata": {
  "kernelspec": {
   "display_name": "Python 3 (ipykernel)",
   "language": "python",
   "name": "python3"
  },
  "language_info": {
   "codemirror_mode": {
    "name": "ipython",
    "version": 3
   },
   "file_extension": ".py",
   "mimetype": "text/x-python",
   "name": "python",
   "nbconvert_exporter": "python",
   "pygments_lexer": "ipython3",
   "version": "3.9.7"
  }
 },
 "nbformat": 4,
 "nbformat_minor": 5
}
