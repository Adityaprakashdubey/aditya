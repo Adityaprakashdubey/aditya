{
 "cells": [
  {
   "cell_type": "code",
   "execution_count": 1,
   "id": "94d4bf44",
   "metadata": {},
   "outputs": [
    {
     "name": "stdout",
     "output_type": "stream",
     "text": [
      "6\n"
     ]
    }
   ],
   "source": [
    "#ans-1\n",
    "def sum_of_elements_in_list(n):\n",
    "    sum = 0 \n",
    "    for i in range(0,len(n)):\n",
    "        sum  = sum + n[i]\n",
    "    print(sum)\n",
    "sum_of_elements_in_list([1,2,3])"
   ]
  },
  {
   "cell_type": "code",
   "execution_count": 5,
   "id": "f16696f4",
   "metadata": {},
   "outputs": [
    {
     "name": "stdout",
     "output_type": "stream",
     "text": [
      "24\n"
     ]
    }
   ],
   "source": [
    "#ans-2\n",
    "def multiply_all_num_in_list(n):\n",
    "    mul  = 1\n",
    "    for i in range(len(n)):\n",
    "        mul =mul*n[i]\n",
    "    print(mul)\n",
    "multiply_all_num_in_list([1,2,3,4])"
   ]
  },
  {
   "cell_type": "code",
   "execution_count": 26,
   "id": "dd5bab4b",
   "metadata": {},
   "outputs": [
    {
     "data": {
      "text/plain": [
       "2"
      ]
     },
     "execution_count": 26,
     "metadata": {},
     "output_type": "execute_result"
    }
   ],
   "source": [
    "#ans-3\n",
    "def smallest_number_in_the_list(n):\n",
    "    n.sort()\n",
    "    return n[0]\n",
    "    \n",
    "smallest_number_in_the_list([4,2,3,4,3])"
   ]
  },
  {
   "cell_type": "code",
   "execution_count": 34,
   "id": "968d73de",
   "metadata": {},
   "outputs": [
    {
     "data": {
      "text/plain": [
       "7"
      ]
     },
     "execution_count": 34,
     "metadata": {},
     "output_type": "execute_result"
    }
   ],
   "source": [
    "#ans-4\n",
    "def largest_number_in_the_list(n):\n",
    "    a  = len(n)\n",
    "    n.sort()\n",
    "    return n[a-1]\n",
    "    \n",
    "largest_number_in_the_list([4,2,3,4,3,7])"
   ]
  },
  {
   "cell_type": "code",
   "execution_count": 42,
   "id": "dc558823",
   "metadata": {},
   "outputs": [
    {
     "name": "stdout",
     "output_type": "stream",
     "text": [
      "second_largest : 8\n"
     ]
    }
   ],
   "source": [
    "#ans-5\n",
    "def second_largest_element_in_the_list(arr):\n",
    "    largest_element = arr[0]\n",
    "    second_largest   = arr[0]\n",
    "    for i in range(0,len(arr)):\n",
    "        if arr[i] > largest_element:\n",
    "            largest_element = arr[i]\n",
    "            \n",
    "    for i in range(0 , len(arr)):\n",
    "        if arr[i] > second_largest and arr[i] != largest_element:\n",
    "            second_largest = arr[i]\n",
    "    print(\"second_largest :\" , second_largest)\n",
    "\n",
    "second_largest_element_in_the_list([1,6,4,8,8,9,9])\n",
    "            "
   ]
  },
  {
   "cell_type": "code",
   "execution_count": 79,
   "id": "7b549353",
   "metadata": {},
   "outputs": [
    {
     "data": {
      "text/plain": [
       "[12, 4, 4]"
      ]
     },
     "execution_count": 79,
     "metadata": {},
     "output_type": "execute_result"
    }
   ],
   "source": [
    "#ans-6\n",
    "def n_largest_element_in_the_list1(arr, n):\n",
    "    \n",
    "    l  = []\n",
    "    for i in range(n):\n",
    "        largest_element = arr[0]\n",
    "   \n",
    "        for i in range(0,len(arr)):\n",
    "            \n",
    "            if arr[i] > largest_element:\n",
    "                largest_element = arr[i]\n",
    "        arr.remove(largest_element)\n",
    "        l.append(largest_element)\n",
    "    return l\n",
    "    \n",
    "n_largest_element_in_the_list1([12,3,4,4,],3)"
   ]
  },
  {
   "cell_type": "code",
   "execution_count": 82,
   "id": "778cb889",
   "metadata": {},
   "outputs": [
    {
     "name": "stdout",
     "output_type": "stream",
     "text": [
      "[2, 4, 6, 8, 10, 12, 14, 16, 18, 20, 22, 24, 26, 28, 30, 32, 34, 36, 38, 40, 42, 44, 46, 48]\n"
     ]
    }
   ],
   "source": [
    "#Ans-7\n",
    "def even_num_in_list(n):\n",
    "    l = []\n",
    "    for i in range(1,n):\n",
    "        if i % 2 == 0:\n",
    "            l.append(i)\n",
    "    print(l)\n",
    "even_num_in_list(50)"
   ]
  },
  {
   "cell_type": "code",
   "execution_count": 84,
   "id": "f78e9335",
   "metadata": {},
   "outputs": [
    {
     "name": "stdout",
     "output_type": "stream",
     "text": [
      "[1, 3, 5, 7, 9, 11, 13, 15, 17, 19, 21, 23, 25, 27, 29, 31, 33, 35, 37, 39, 41, 43, 45, 47, 49]\n"
     ]
    }
   ],
   "source": [
    "#ans- 8\n",
    "def odd_num_in_list(n):\n",
    "    l = []\n",
    "    for i in range(1,n):\n",
    "        if i % 2 ==1 :\n",
    "            l.append(i)\n",
    "    print(l)\n",
    "odd_num_in_list(50)"
   ]
  },
  {
   "cell_type": "code",
   "execution_count": 118,
   "id": "06c49f49",
   "metadata": {},
   "outputs": [
    {
     "name": "stdout",
     "output_type": "stream",
     "text": [
      "[1, 2, 3, 'adi']\n"
     ]
    }
   ],
   "source": [
    "#ans-9\n",
    "def remove_empty_list_from_list(n):\n",
    "    while [] in n:\n",
    "        n.remove([])\n",
    "\n",
    "    print(n)\n",
    "\n",
    "remove_empty_list_from_list([1,2,3,[],\"adi\"])\n",
    "   "
   ]
  },
  {
   "cell_type": "code",
   "execution_count": 121,
   "id": "3d9f6665",
   "metadata": {},
   "outputs": [
    {
     "name": "stdout",
     "output_type": "stream",
     "text": [
      "[1, 2, 3]\n",
      "[1, 2, 3]\n"
     ]
    }
   ],
   "source": [
    "#ams-10\n",
    "def copying_list(n):\n",
    "    for i in range(2):\n",
    "        print(n)\n",
    "copying_list([1,2,3])\n",
    "        "
   ]
  },
  {
   "cell_type": "code",
   "execution_count": 161,
   "id": "9d93b4eb",
   "metadata": {},
   "outputs": [
    {
     "data": {
      "text/plain": [
       "3"
      ]
     },
     "execution_count": 161,
     "metadata": {},
     "output_type": "execute_result"
    }
   ],
   "source": [
    "#ans-11\n",
    "def count_occurence_of_element_in_list(n , element):\n",
    "    count = 0\n",
    " \n",
    "    for i in n:\n",
    "        \n",
    "        if i == element:\n",
    "            count = count + 1\n",
    "        \n",
    "    return count\n",
    "        \n",
    "\n",
    "count_occurence_of_element_in_list([1,2,31,2,2,3,3,4],2)\n",
    "        "
   ]
  },
  {
   "cell_type": "code",
   "execution_count": null,
   "id": "028dab00",
   "metadata": {},
   "outputs": [],
   "source": []
  }
 ],
 "metadata": {
  "kernelspec": {
   "display_name": "Python 3 (ipykernel)",
   "language": "python",
   "name": "python3"
  },
  "language_info": {
   "codemirror_mode": {
    "name": "ipython",
    "version": 3
   },
   "file_extension": ".py",
   "mimetype": "text/x-python",
   "name": "python",
   "nbconvert_exporter": "python",
   "pygments_lexer": "ipython3",
   "version": "3.9.7"
  }
 },
 "nbformat": 4,
 "nbformat_minor": 5
}
