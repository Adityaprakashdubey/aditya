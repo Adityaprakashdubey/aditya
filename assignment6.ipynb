{
 "cells": [
  {
   "cell_type": "code",
   "execution_count": 1,
   "id": "95694769",
   "metadata": {},
   "outputs": [],
   "source": [
    "#ans-1\n",
    "#An escape sequence contains a backslash (\\) symbol followed by one of the escape sequence characters or an octal or hexadecimal number\n",
    "# \\t , \\n"
   ]
  },
  {
   "cell_type": "code",
   "execution_count": 2,
   "id": "e1be7132",
   "metadata": {},
   "outputs": [],
   "source": [
    "#ans-2\n",
    "# \\t for horizontal tab and \\n for newline"
   ]
  },
  {
   "cell_type": "code",
   "execution_count": null,
   "id": "af920192",
   "metadata": {},
   "outputs": [],
   "source": [
    "#ans-3\n",
    "# double \\\\ backslash"
   ]
  },
  {
   "cell_type": "code",
   "execution_count": 9,
   "id": "99aeab18",
   "metadata": {},
   "outputs": [
    {
     "name": "stdout",
     "output_type": "stream",
     "text": [
      "Howl's Moving Castle\n",
      "Howl's Moving Castle\n"
     ]
    }
   ],
   "source": [
    "#ans-4\n",
    "s = \"Howl's Moving Castle\"\n",
    "d = 'Howl\\'s Moving Castle'\n",
    "print(s)\n",
    "print(d)\n",
    "#because in starting we used double quotes if we have used single quote in starting then it would have escaped\n",
    "# or wemcouild use backlash \\'"
   ]
  },
  {
   "cell_type": "code",
   "execution_count": 17,
   "id": "a88d774d",
   "metadata": {},
   "outputs": [
    {
     "name": "stdout",
     "output_type": "stream",
     "text": [
      "iNeuron full stack \n",
      "Data Science Course\n"
     ]
    }
   ],
   "source": [
    "#ans-5\n",
    "a = '''iNeuron full stack \n",
    "Data Science Course'''\n",
    "print(a) "
   ]
  },
  {
   "cell_type": "code",
   "execution_count": 26,
   "id": "9c089550",
   "metadata": {},
   "outputs": [
    {
     "name": "stdout",
     "output_type": "stream",
     "text": [
      "e\n",
      "hello\n",
      "hello\n",
      "lo,world!\n"
     ]
    }
   ],
   "source": [
    "#ans-6\n",
    "e = \"hello,world!\"[1]\n",
    "f = \"hello,world!\"[0:5]\n",
    "g = \"hello,world!\"[:5]\n",
    "h = \"hello,world!\"[3:]\n",
    "print(e)\n",
    "print(f)\n",
    "print(g)\n",
    "print(h)\n"
   ]
  },
  {
   "cell_type": "code",
   "execution_count": 32,
   "id": "67b77ba8",
   "metadata": {},
   "outputs": [
    {
     "name": "stdout",
     "output_type": "stream",
     "text": [
      "HELLO\n",
      "True\n",
      "hello\n"
     ]
    }
   ],
   "source": [
    "#ans-7\n",
    "a = \"hello\".upper()\n",
    "print(a)\n",
    "b = \"hello\".upper().isupper()\n",
    "print(b)\n",
    "c = \"hello\".upper().lower()\n",
    "print(c)"
   ]
  },
  {
   "cell_type": "code",
   "execution_count": 36,
   "id": "d2ad1cba",
   "metadata": {},
   "outputs": [
    {
     "name": "stdout",
     "output_type": "stream",
     "text": [
      "['Remember,', 'remember,', 'the', 'fifth', 'of', 'July.']\n"
     ]
    }
   ],
   "source": [
    "#ans-8\n",
    "a = \"Remember, remember, the fifth of July.\".split()\n",
    "print(a)"
   ]
  },
  {
   "cell_type": "code",
   "execution_count": 37,
   "id": "7dcc9584",
   "metadata": {},
   "outputs": [],
   "source": [
    "#ans-9\n",
    "#The rjust(),ljust(),center() string methods, respectively"
   ]
  },
  {
   "cell_type": "code",
   "execution_count": 39,
   "id": "fd18f0d7",
   "metadata": {},
   "outputs": [
    {
     "name": "stdout",
     "output_type": "stream",
     "text": [
      "aditya\n"
     ]
    }
   ],
   "source": [
    "#ans-10\n",
    "# lstip() and rstrip()\n",
    "a  = \"     aditya\".lstrip()\n",
    "print(a)"
   ]
  },
  {
   "cell_type": "code",
   "execution_count": null,
   "id": "cb7dfd98",
   "metadata": {},
   "outputs": [],
   "source": []
  }
 ],
 "metadata": {
  "kernelspec": {
   "display_name": "Python 3 (ipykernel)",
   "language": "python",
   "name": "python3"
  },
  "language_info": {
   "codemirror_mode": {
    "name": "ipython",
    "version": 3
   },
   "file_extension": ".py",
   "mimetype": "text/x-python",
   "name": "python",
   "nbconvert_exporter": "python",
   "pygments_lexer": "ipython3",
   "version": "3.9.7"
  }
 },
 "nbformat": 4,
 "nbformat_minor": 5
}
