{
 "cells": [
  {
   "cell_type": "code",
   "execution_count": 1,
   "id": "7476c84f",
   "metadata": {},
   "outputs": [],
   "source": [
    "#Ans-1\n",
    "# Advatages - reusability , reduces complexity , code duplication reduces"
   ]
  },
  {
   "cell_type": "code",
   "execution_count": 2,
   "id": "79fc5f16",
   "metadata": {},
   "outputs": [],
   "source": [
    "#Ans-2\n",
    "#When it is called"
   ]
  },
  {
   "cell_type": "code",
   "execution_count": 5,
   "id": "da90a4fb",
   "metadata": {},
   "outputs": [],
   "source": [
    "#Ans-3 \n",
    "# def statement\n",
    "#  def funtionname():"
   ]
  },
  {
   "cell_type": "code",
   "execution_count": 6,
   "id": "9a1ed353",
   "metadata": {},
   "outputs": [],
   "source": [
    "#Ans-4\n",
    "#A function is a block of code that does a particular operation and returns a result.\n",
    "#while function call is used to pass data or control to function"
   ]
  },
  {
   "cell_type": "code",
   "execution_count": 7,
   "id": "128c45e2",
   "metadata": {},
   "outputs": [],
   "source": [
    "#Ans-5\n",
    "#There is one global scope, and a local scope is created whenever a function is called."
   ]
  },
  {
   "cell_type": "code",
   "execution_count": 8,
   "id": "9dbc9f18",
   "metadata": {},
   "outputs": [],
   "source": [
    "#Ans- 6\n",
    "# it dissappears or it gets destroyed"
   ]
  },
  {
   "cell_type": "code",
   "execution_count": 10,
   "id": "18112c4f",
   "metadata": {},
   "outputs": [],
   "source": [
    "#Ans-7\n",
    "# return value means the answer or the result achieved while performing the given task\n",
    "#it means The value that a function returns to the caller is generally known as the  return value\n",
    "#yes it is possible to have a return value in an expression"
   ]
  },
  {
   "cell_type": "code",
   "execution_count": 12,
   "id": "b2d9d125",
   "metadata": {},
   "outputs": [],
   "source": [
    "#Ans-8\n",
    "# None"
   ]
  },
  {
   "cell_type": "code",
   "execution_count": 13,
   "id": "c51cfacc",
   "metadata": {},
   "outputs": [],
   "source": [
    "#Ans-9\n",
    "# Use keyword global to declare the variable"
   ]
  },
  {
   "cell_type": "code",
   "execution_count": 14,
   "id": "1e657c74",
   "metadata": {},
   "outputs": [],
   "source": [
    "#Ans-10\n",
    "#NoneType"
   ]
  },
  {
   "cell_type": "code",
   "execution_count": 15,
   "id": "0d878e3d",
   "metadata": {},
   "outputs": [],
   "source": [
    "#Ans-11\n",
    "# it imports or call the module areallyourpetsnamederic"
   ]
  },
  {
   "cell_type": "code",
   "execution_count": 16,
   "id": "4091b1b1",
   "metadata": {},
   "outputs": [],
   "source": [
    "#Ans-12\n",
    "# spam.bacon()"
   ]
  },
  {
   "cell_type": "code",
   "execution_count": 17,
   "id": "65363ee3",
   "metadata": {},
   "outputs": [],
   "source": [
    " #Ans-12\n",
    "#Place the line of code that might cause an error in a try clause and use except block to handle the error."
   ]
  },
  {
   "cell_type": "code",
   "execution_count": 18,
   "id": "4f45f59a",
   "metadata": {},
   "outputs": [],
   "source": [
    "#Ans-13\n",
    "#Try clause is used when their is possiblility of error in code and to handle that error except clause is used as when the error is caused except block comes in play"
   ]
  },
  {
   "cell_type": "code",
   "execution_count": null,
   "id": "352b8411",
   "metadata": {},
   "outputs": [],
   "source": []
  }
 ],
 "metadata": {
  "kernelspec": {
   "display_name": "Python 3 (ipykernel)",
   "language": "python",
   "name": "python3"
  },
  "language_info": {
   "codemirror_mode": {
    "name": "ipython",
    "version": 3
   },
   "file_extension": ".py",
   "mimetype": "text/x-python",
   "name": "python",
   "nbconvert_exporter": "python",
   "pygments_lexer": "ipython3",
   "version": "3.9.7"
  }
 },
 "nbformat": 4,
 "nbformat_minor": 5
}
