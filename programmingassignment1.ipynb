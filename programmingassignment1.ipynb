{
 "cells": [
  {
   "cell_type": "code",
   "execution_count": 1,
   "id": "1da28aec",
   "metadata": {},
   "outputs": [],
   "source": [
    "#ans-1\n",
    "def hello(n):\n",
    "    print(n)"
   ]
  },
  {
   "cell_type": "code",
   "execution_count": 3,
   "id": "d58ceb70",
   "metadata": {},
   "outputs": [
    {
     "name": "stdout",
     "output_type": "stream",
     "text": [
      "\"hello python\"\n"
     ]
    }
   ],
   "source": [
    "hello('\"hello python\"')"
   ]
  },
  {
   "cell_type": "code",
   "execution_count": 5,
   "id": "f4f08dca",
   "metadata": {},
   "outputs": [],
   "source": [
    "#ans2\n",
    "def arthimetic(a,b):\n",
    "    add = a+b\n",
    "    div = a/b\n",
    "    print(add)\n",
    "    print(div)"
   ]
  },
  {
   "cell_type": "code",
   "execution_count": 6,
   "id": "3c85b664",
   "metadata": {},
   "outputs": [
    {
     "name": "stdout",
     "output_type": "stream",
     "text": [
      "3\n",
      "0.5\n"
     ]
    }
   ],
   "source": [
    "arthimetic(1,2)"
   ]
  },
  {
   "cell_type": "code",
   "execution_count": 9,
   "id": "b2442f77",
   "metadata": {},
   "outputs": [],
   "source": [
    "#ans- 3\n",
    "def area_of_triangle(base , height):\n",
    "    area = (base * height)/2\n",
    "    print(area)"
   ]
  },
  {
   "cell_type": "code",
   "execution_count": 10,
   "id": "951921e7",
   "metadata": {},
   "outputs": [
    {
     "name": "stdout",
     "output_type": "stream",
     "text": [
      "25.0\n"
     ]
    }
   ],
   "source": [
    "area_of_triangle(10,5)"
   ]
  },
  {
   "cell_type": "code",
   "execution_count": 13,
   "id": "b30c8ca1",
   "metadata": {},
   "outputs": [],
   "source": [
    "#ans-4\n",
    "def swap(x,y):\n",
    "    temp = x\n",
    "    x = y\n",
    "    y = temp\n",
    "    print(\"the value of x after swapping : {}\".format(x))\n",
    "    print(\"the value of y after swapping : {}\".format(y))\n",
    "    "
   ]
  },
  {
   "cell_type": "code",
   "execution_count": 14,
   "id": "a970b197",
   "metadata": {},
   "outputs": [
    {
     "name": "stdout",
     "output_type": "stream",
     "text": [
      "the value of x after swapping : 5\n",
      "the value of y after swapping : 10\n"
     ]
    }
   ],
   "source": [
    "swap(10,5)"
   ]
  },
  {
   "cell_type": "code",
   "execution_count": 23,
   "id": "dbad69a8",
   "metadata": {},
   "outputs": [],
   "source": [
    "import random\n",
    "def randomnumber(a,b):\n",
    "    x = random.randint(a,b)\n",
    "    print(x)"
   ]
  },
  {
   "cell_type": "code",
   "execution_count": 24,
   "id": "c16c0507",
   "metadata": {},
   "outputs": [
    {
     "name": "stdout",
     "output_type": "stream",
     "text": [
      "71\n"
     ]
    }
   ],
   "source": [
    "randomnumber(0,100)"
   ]
  },
  {
   "cell_type": "code",
   "execution_count": null,
   "id": "3c862efa",
   "metadata": {},
   "outputs": [],
   "source": []
  }
 ],
 "metadata": {
  "kernelspec": {
   "display_name": "Python 3 (ipykernel)",
   "language": "python",
   "name": "python3"
  },
  "language_info": {
   "codemirror_mode": {
    "name": "ipython",
    "version": 3
   },
   "file_extension": ".py",
   "mimetype": "text/x-python",
   "name": "python",
   "nbconvert_exporter": "python",
   "pygments_lexer": "ipython3",
   "version": "3.9.7"
  }
 },
 "nbformat": 4,
 "nbformat_minor": 5
}
