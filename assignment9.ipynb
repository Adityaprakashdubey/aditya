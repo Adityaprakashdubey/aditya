{
 "cells": [
  {
   "cell_type": "code",
   "execution_count": null,
   "id": "7ad9fd96",
   "metadata": {},
   "outputs": [],
   "source": [
    "#1.To what does a relative path refer ?\n",
    "#The relative path is the path to some file with respect to your current working directory (PWD).\n",
    "#PWD + relative path = absolute path"
   ]
  },
  {
   "cell_type": "code",
   "execution_count": null,
   "id": "15c65c86",
   "metadata": {},
   "outputs": [],
   "source": [
    "#2.Where does an absolute path start with your Operating System ?\n",
    "#c:\n"
   ]
  },
  {
   "cell_type": "code",
   "execution_count": 7,
   "id": "5578f879",
   "metadata": {},
   "outputs": [
    {
     "name": "stdout",
     "output_type": "stream",
     "text": [
      "C:\\Users\\Public\n",
      "C:\\Users\\Public\n"
     ]
    }
   ],
   "source": [
    "#3.What does the functions os.getcwd() and os.chdir() do ?\n",
    "#os.getcwd() method tells us the location of current working directory (CWD). Whereas os.chdir() method in Python used to change the current working directory to specified path. \n",
    "import os\n",
    "print(os.getcwd()) \n",
    "z = r\"C:\\Users\\Public\"\n",
    "os.chdir(z)\n",
    "print(os.getcwd())"
   ]
  },
  {
   "cell_type": "code",
   "execution_count": null,
   "id": "020eee33",
   "metadata": {},
   "outputs": [],
   "source": [
    "#4.What are . and .. folders ?\n",
    "#. Represents the Current Directory Whereas .. Represents the Parent Directory of the Current Directory"
   ]
  },
  {
   "cell_type": "code",
   "execution_count": 8,
   "id": "dec63115",
   "metadata": {},
   "outputs": [],
   "source": [
    "#5.In C:\\bacon\\eggs\\spam.txt which part is the dir name and which part is the base name ?\n",
    "#The dir name is C:\\\\bacon\\\\eggs\n",
    "#The Base name is spam.txt"
   ]
  },
  {
   "cell_type": "code",
   "execution_count": null,
   "id": "18afe477",
   "metadata": {},
   "outputs": [],
   "source": [
    "#6.What are the three mode arguments that can be passed to the open() function ?\n",
    "#A file can be Accessed in python using open() function. open function takes two arguments filename and mode of operation (optional). if mode is not provided the default mode of opening is read mode\n",
    "So, the syntax being: open(filename, mode)\n",
    "\n",
    "‘r’ – Read Mode: This is the default mode for open(). The file is opened and a pointer is positioned at the beginning of the file’s content.\n",
    "‘w’ – Write Mode: Using this mode will overwrite any existing content in a file. If the given file does not exist, a new one will be created.\n",
    "‘r+’ – Read/Write Mode: Use this mode if you need to simultaneously read and write to a file.\n",
    "‘a’ – Append Mode: With this mode the user can append the data without overwriting any already existing data in the file.\n",
    "‘a+’ – Append and Read Mode: In this mode you can read and append the data without overwriting the original file.\n",
    "‘x’ – Exclusive Creating Mode: This mode is for the sole purpose of creating new files. Use this mode if you know the file to be written doesn’t exist beforehand."
   ]
  },
  {
   "cell_type": "code",
   "execution_count": 9,
   "id": "e90c3e41",
   "metadata": {},
   "outputs": [],
   "source": [
    "#7.What happens if an existing file is opened in write mode ?\n",
    "# Using this mode will overwrite any existing content in a file. If the given file does not exist, a new one will be created.\n"
   ]
  },
  {
   "cell_type": "code",
   "execution_count": null,
   "id": "0faa7c96",
   "metadata": {},
   "outputs": [],
   "source": [
    "8.How do you tell the difference between read() and readlines() ?\n",
    "The read() would treat each character in the file separately, meaning that the iteration would happen for every character.\n",
    "The readline() function, on the other hand, only reads a single line of the file."
   ]
  },
  {
   "cell_type": "code",
   "execution_count": null,
   "id": "3c7b15dc",
   "metadata": {},
   "outputs": [],
   "source": [
    "9.What data structure does a shelf value resemble ?\n",
    "# contains key and values it represents dictionary."
   ]
  }
 ],
 "metadata": {
  "kernelspec": {
   "display_name": "Python 3 (ipykernel)",
   "language": "python",
   "name": "python3"
  },
  "language_info": {
   "codemirror_mode": {
    "name": "ipython",
    "version": 3
   },
   "file_extension": ".py",
   "mimetype": "text/x-python",
   "name": "python",
   "nbconvert_exporter": "python",
   "pygments_lexer": "ipython3",
   "version": "3.9.7"
  }
 },
 "nbformat": 4,
 "nbformat_minor": 5
}
