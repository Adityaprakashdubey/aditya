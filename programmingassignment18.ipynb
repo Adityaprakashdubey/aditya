{
 "cells": [
  {
   "cell_type": "code",
   "execution_count": 1,
   "id": "da3e8a9b",
   "metadata": {},
   "outputs": [
    {
     "name": "stdout",
     "output_type": "stream",
     "text": [
      "[1, 2, 3, 'as', 'd', 'sds']→[1, 2, 3]\n"
     ]
    }
   ],
   "source": [
    "#ans-1\n",
    "def abc(l):\n",
    "    l1 = []\n",
    "    for i in l:\n",
    "        if type(i) == int:\n",
    "            l1.append(i)\n",
    "            \n",
    "    print(f'{l}→{l1}')\n",
    "    \n",
    "abc([1,2,3,\"as\",\"d\",\"sds\"])"
   ]
  },
  {
   "cell_type": "code",
   "execution_count": 3,
   "id": "bcd4c5a4",
   "metadata": {},
   "outputs": [
    {
     "data": {
      "text/plain": [
       "'sagudDAG'"
      ]
     },
     "execution_count": 3,
     "metadata": {},
     "output_type": "execute_result"
    }
   ],
   "source": [
    "#ans-2\n",
    "def reverser_and_cases(s):\n",
    "    s = s[::-1]\n",
    "    for i in s:\n",
    "        if i.islower():\n",
    "            i.upper()\n",
    "        elif i.isupper():\n",
    "            i.lower()\n",
    "    return s\n",
    "reverser_and_cases(\"HellO woRLd\")\n",
    "reverser_and_cases(\"RAdar\")\n",
    "reverser_and_cases(\"GADdugas\")\n",
    "        \n",
    "            "
   ]
  },
  {
   "cell_type": "code",
   "execution_count": 11,
   "id": "b0fb2021",
   "metadata": {},
   "outputs": [
    {
     "name": "stdout",
     "output_type": "stream",
     "text": [
      "first → 1\n",
      "middle → [2, 3, 4, 5]\n",
      "last → 6\n"
     ]
    }
   ],
   "source": [
    "#ans-3\n",
    "def descructing_assignment(l):\n",
    "    first , *middle , last = l\n",
    "    print(f'first → {first}')\n",
    "    print(f'middle → {middle}')\n",
    "    print(f'last → {last}')\n",
    "descructing_assignment([1,2,3,4,5,6])"
   ]
  },
  {
   "cell_type": "code",
   "execution_count": 18,
   "id": "7b6d2f99",
   "metadata": {},
   "outputs": [
    {
     "data": {
      "text/plain": [
       "120"
      ]
     },
     "execution_count": 18,
     "metadata": {},
     "output_type": "execute_result"
    }
   ],
   "source": [
    "#ans - 4\n",
    "def fact(n):\n",
    "    if n == 0:\n",
    "        return 1\n",
    "    return n * fact(n-1)\n",
    "fact(5)"
   ]
  },
  {
   "cell_type": "code",
   "execution_count": 39,
   "id": "c89285d4",
   "metadata": {},
   "outputs": [
    {
     "name": "stdout",
     "output_type": "stream",
     "text": [
      "[3, 2, 4, 4, 1, 1]\n"
     ]
    }
   ],
   "source": [
    "#ans-5\n",
    "def move_to_end(n,a):\n",
    "    z = len(n)-1\n",
    "    if a in n:\n",
    "        n.remove(a)\n",
    "        n.insert(z,a)\n",
    "        \n",
    "    print(n)\n",
    "        \n",
    "move_to_end([1,3,2,4,4,1],1)       \n",
    "        "
   ]
  },
  {
   "cell_type": "code",
   "execution_count": null,
   "id": "13d475ba",
   "metadata": {},
   "outputs": [],
   "source": []
  }
 ],
 "metadata": {
  "kernelspec": {
   "display_name": "Python 3 (ipykernel)",
   "language": "python",
   "name": "python3"
  },
  "language_info": {
   "codemirror_mode": {
    "name": "ipython",
    "version": 3
   },
   "file_extension": ".py",
   "mimetype": "text/x-python",
   "name": "python",
   "nbconvert_exporter": "python",
   "pygments_lexer": "ipython3",
   "version": "3.9.7"
  }
 },
 "nbformat": 4,
 "nbformat_minor": 5
}
