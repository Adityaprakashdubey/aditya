{
 "cells": [
  {
   "cell_type": "code",
   "execution_count": 10,
   "id": "1c06235c",
   "metadata": {},
   "outputs": [
    {
     "name": "stdout",
     "output_type": "stream",
     "text": [
      "0,35,70\n"
     ]
    }
   ],
   "source": [
    "#ans-1\n",
    "def ans(n):\n",
    "    l = []\n",
    "    for i in range(n):\n",
    "        if i % 7 == 0 and i%5 == 0:\n",
    "            \n",
    "            l.append(str(i))\n",
    "    print(','.join(l))\n",
    "ans(100)\n",
    "        "
   ]
  },
  {
   "cell_type": "code",
   "execution_count": 12,
   "id": "0e406066",
   "metadata": {},
   "outputs": [
    {
     "name": "stdout",
     "output_type": "stream",
     "text": [
      "0,2,4,6,8,10\n"
     ]
    }
   ],
   "source": [
    "#ans-2\n",
    "def even(n):\n",
    "    l = []\n",
    "    for i in range(n):\n",
    "        if i % 2 ==0:\n",
    "            l.append(str(i))\n",
    "    print(\",\".join(l))\n",
    "even(11)"
   ]
  },
  {
   "cell_type": "code",
   "execution_count": 42,
   "id": "a0051ae6",
   "metadata": {},
   "outputs": [
    {
     "name": "stdout",
     "output_type": "stream",
     "text": [
      "0,1,1,2,3,5,8,13\n"
     ]
    }
   ],
   "source": [
    "#ans-3\n",
    "def fibonacci(n):\n",
    "    l = []\n",
    "    a =  0\n",
    "    b = 1\n",
    "    for i in range(0,n+1):\n",
    "            l.append(str(a))\n",
    "            c = a+b\n",
    "            a = b\n",
    "            b=c\n",
    "    print(\",\".join(l))\n",
    "fibonacci(7)"
   ]
  },
  {
   "cell_type": "code",
   "execution_count": 53,
   "id": "aefea5ea",
   "metadata": {},
   "outputs": [
    {
     "name": "stdout",
     "output_type": "stream",
     "text": [
      "apdubey"
     ]
    }
   ],
   "source": [
    "#ans-4\n",
    "def remove(s):\n",
    "    for i in range(len(s)):\n",
    "        #print(s[i])\n",
    "        if s[i]==\"@\":\n",
    "            break\n",
    "        print(s[i],end=\"\")\n",
    "remove(\"apdubey@gmail.com\")\n",
    "        "
   ]
  },
  {
   "cell_type": "code",
   "execution_count": 56,
   "id": "87c4cdac",
   "metadata": {},
   "outputs": [
    {
     "data": {
      "text/plain": [
       "10000"
      ]
     },
     "execution_count": 56,
     "metadata": {},
     "output_type": "execute_result"
    }
   ],
   "source": [
    "#ans-5\n",
    "class Shape:\n",
    "    def area(self):\n",
    "        pass\n",
    "class Square(Shape):\n",
    "    def __init__(self,length):\n",
    "        self.length=length\n",
    "    def area(self):\n",
    "        return self.length*self.length\n",
    "obj = Square(100)\n",
    "obj.area()\n",
    "    \n",
    "        "
   ]
  },
  {
   "cell_type": "code",
   "execution_count": null,
   "id": "b74c571c",
   "metadata": {},
   "outputs": [],
   "source": []
  }
 ],
 "metadata": {
  "kernelspec": {
   "display_name": "Python 3 (ipykernel)",
   "language": "python",
   "name": "python3"
  },
  "language_info": {
   "codemirror_mode": {
    "name": "ipython",
    "version": 3
   },
   "file_extension": ".py",
   "mimetype": "text/x-python",
   "name": "python",
   "nbconvert_exporter": "python",
   "pygments_lexer": "ipython3",
   "version": "3.9.7"
  }
 },
 "nbformat": 4,
 "nbformat_minor": 5
}
