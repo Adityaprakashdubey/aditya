{
 "cells": [
  {
   "cell_type": "code",
   "execution_count": 2,
   "id": "a1db6481",
   "metadata": {},
   "outputs": [],
   "source": [
    "#Ans-1\n",
    "# True and False\n",
    "# T and F should be capital"
   ]
  },
  {
   "cell_type": "code",
   "execution_count": 3,
   "id": "5a777e8d",
   "metadata": {},
   "outputs": [],
   "source": [
    "#Ans-2\n",
    "# and , or , not"
   ]
  },
  {
   "cell_type": "code",
   "execution_count": 4,
   "id": "7d515ad2",
   "metadata": {},
   "outputs": [],
   "source": [
    "#Ans-3\n",
    "# Truth Table for and operaotor\n",
    "#True and True is True\n",
    "#True and False is False\n",
    "#False and True is False\n",
    "#False and False is False\n",
    "\n",
    "#Truth Table for or operaotor\n",
    "#True and True is True\n",
    "#True and False is True\n",
    "#False and True is True\n",
    "#False and False is False\n",
    "\n",
    "#Truth Table for not operaotor\n",
    "#True not is False False not is True"
   ]
  },
  {
   "cell_type": "code",
   "execution_count": 5,
   "id": "b70ac115",
   "metadata": {},
   "outputs": [
    {
     "data": {
      "text/plain": [
       "False"
      ]
     },
     "execution_count": 5,
     "metadata": {},
     "output_type": "execute_result"
    }
   ],
   "source": [
    "#Ans - 4\n",
    "(5>4) and (3==5)\n",
    "# False"
   ]
  },
  {
   "cell_type": "code",
   "execution_count": 6,
   "id": "3ffbe175",
   "metadata": {},
   "outputs": [
    {
     "data": {
      "text/plain": [
       "False"
      ]
     },
     "execution_count": 6,
     "metadata": {},
     "output_type": "execute_result"
    }
   ],
   "source": [
    "not(5>4)\n",
    "#False"
   ]
  },
  {
   "cell_type": "code",
   "execution_count": 7,
   "id": "2ebba9fc",
   "metadata": {},
   "outputs": [
    {
     "data": {
      "text/plain": [
       "False"
      ]
     },
     "execution_count": 7,
     "metadata": {},
     "output_type": "execute_result"
    }
   ],
   "source": [
    "not(5>4) or (3==5)\n",
    "#False"
   ]
  },
  {
   "cell_type": "code",
   "execution_count": 8,
   "id": "16cf643f",
   "metadata": {},
   "outputs": [
    {
     "data": {
      "text/plain": [
       "False"
      ]
     },
     "execution_count": 8,
     "metadata": {},
     "output_type": "execute_result"
    }
   ],
   "source": [
    "(True and True) and (True == False)\n",
    "#False"
   ]
  },
  {
   "cell_type": "code",
   "execution_count": 9,
   "id": "379d67c6",
   "metadata": {},
   "outputs": [
    {
     "data": {
      "text/plain": [
       "True"
      ]
     },
     "execution_count": 9,
     "metadata": {},
     "output_type": "execute_result"
    }
   ],
   "source": [
    "(not False) or (not True)\n",
    "#True"
   ]
  },
  {
   "cell_type": "code",
   "execution_count": 10,
   "id": "07c34094",
   "metadata": {},
   "outputs": [],
   "source": [
    "#Ans-5\n",
    "# > ,< ,== ,>=, <=,!="
   ]
  },
  {
   "cell_type": "code",
   "execution_count": 19,
   "id": "fc8a9497",
   "metadata": {},
   "outputs": [],
   "source": [
    "#Ans -6\n",
    "# equal to (=) is used to assign the data while assignment operator is used to compare the data with the other data\n",
    "def use(n):\n",
    "    c=1\n",
    "    if n==4:\n",
    "        print(c)\n",
    "    "
   ]
  },
  {
   "cell_type": "code",
   "execution_count": 20,
   "id": "e38c65cf",
   "metadata": {},
   "outputs": [
    {
     "name": "stdout",
     "output_type": "stream",
     "text": [
      "1\n"
     ]
    }
   ],
   "source": [
    "use(4)"
   ]
  },
  {
   "cell_type": "code",
   "execution_count": 24,
   "id": "c4137a5b",
   "metadata": {},
   "outputs": [
    {
     "name": "stdout",
     "output_type": "stream",
     "text": [
      "ham\n",
      "spam\n",
      "spam\n"
     ]
    }
   ],
   "source": [
    "#Ans-7\n",
    "# blocks are genrally found in indent that is in loop, functions etc\n",
    "spam = 0\n",
    "if spam == 10:\n",
    "    print(\"eggs\") #block 1\n",
    "if spam > 5:\n",
    "    print(\"bacon\") #block 2\n",
    "else:\n",
    "    print(\"ham\")    #block 3\n",
    "    print(\"spam\")\n",
    "    print(\"spam\")"
   ]
  },
  {
   "cell_type": "code",
   "execution_count": 31,
   "id": "b0c32220",
   "metadata": {},
   "outputs": [
    {
     "name": "stdout",
     "output_type": "stream",
     "text": [
      "hello\n",
      "howdy\n",
      "greetings!\n"
     ]
    }
   ],
   "source": [
    "#Ans-8\n",
    "def code(spam):\n",
    "    if spam == 1:\n",
    "        print(\"hello\")\n",
    "    elif spam == 2:\n",
    "        print(\"howdy\")\n",
    "    else:\n",
    "        print(\"greetings!\")\n",
    "code(1)\n",
    "code(2)\n",
    "code(\"fgdg\")\n",
    "        "
   ]
  },
  {
   "cell_type": "code",
   "execution_count": 32,
   "id": "bd088aa4",
   "metadata": {},
   "outputs": [],
   "source": [
    "#Ans-9\n",
    "# ctrl + c"
   ]
  },
  {
   "cell_type": "code",
   "execution_count": 33,
   "id": "870e27c3",
   "metadata": {},
   "outputs": [],
   "source": [
    "#Ans-10\n",
    "#break statement terminates the entire loop after it is found means execution goes outside the loop \n",
    "#whereas continue is used to start the execution from the starting"
   ]
  },
  {
   "cell_type": "code",
   "execution_count": 48,
   "id": "580636ab",
   "metadata": {},
   "outputs": [],
   "source": [
    "#Ans-11\n",
    "#range(10) range starts from 0 to 9\n",
    "#range(0, 10) tells to start from 0 and end at 9\n",
    "#range(0, 10, 1) tells to start from 0 and end at 9 and increase the count or variable by 1"
   ]
  },
  {
   "cell_type": "code",
   "execution_count": 56,
   "id": "95e262aa",
   "metadata": {},
   "outputs": [
    {
     "name": "stdout",
     "output_type": "stream",
     "text": [
      "1\n",
      "2\n",
      "3\n",
      "4\n",
      "5\n",
      "6\n",
      "7\n",
      "8\n",
      "9\n",
      "10\n",
      "1\n",
      "2\n",
      "3\n",
      "4\n",
      "5\n",
      "6\n",
      "7\n",
      "8\n",
      "9\n",
      "10\n"
     ]
    }
   ],
   "source": [
    "#Ans-11 \n",
    "#for loop\n",
    "def forloop(n):\n",
    "    for i in range(1,n):\n",
    "        print(i)\n",
    "def whileloop(x):\n",
    "    count = 1\n",
    "    while count < x:\n",
    "        print(count)\n",
    "        count = count +1\n",
    "forloop(11)\n",
    "whileloop(11)"
   ]
  },
  {
   "cell_type": "code",
   "execution_count": 58,
   "id": "67d00826",
   "metadata": {},
   "outputs": [],
   "source": [
    "#Ans-13\n",
    "#import spam\n",
    "#spam.bacon()"
   ]
  },
  {
   "cell_type": "code",
   "execution_count": null,
   "id": "5ca204ae",
   "metadata": {},
   "outputs": [],
   "source": []
  }
 ],
 "metadata": {
  "kernelspec": {
   "display_name": "Python 3 (ipykernel)",
   "language": "python",
   "name": "python3"
  },
  "language_info": {
   "codemirror_mode": {
    "name": "ipython",
    "version": 3
   },
   "file_extension": ".py",
   "mimetype": "text/x-python",
   "name": "python",
   "nbconvert_exporter": "python",
   "pygments_lexer": "ipython3",
   "version": "3.9.7"
  }
 },
 "nbformat": 4,
 "nbformat_minor": 5
}
