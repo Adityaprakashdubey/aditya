{
 "cells": [
  {
   "cell_type": "code",
   "execution_count": 1,
   "id": "a45543e5",
   "metadata": {},
   "outputs": [],
   "source": [
    "#Ans-1\n",
    "# List"
   ]
  },
  {
   "cell_type": "code",
   "execution_count": 11,
   "id": "898faf77",
   "metadata": {},
   "outputs": [
    {
     "name": "stdout",
     "output_type": "stream",
     "text": [
      "[2, 4, 6, 8, 10]\n",
      "[2, 4, 'hello', 8, 10]\n"
     ]
    }
   ],
   "source": [
    "#Ans-2\n",
    "spam = [2,4,6,8,10]\n",
    "print(spam)\n",
    "spam[2] = \"hello\"\n",
    "print(spam)\n",
    "\n",
    "#[2, 4, 6, 8, 10]\n",
    "[2, 4, 'hello', 8, 10]"
   ]
  },
  {
   "cell_type": "code",
   "execution_count": 13,
   "id": "21a9e189",
   "metadata": {},
   "outputs": [
    {
     "data": {
      "text/plain": [
       "'d'"
      ]
     },
     "execution_count": 13,
     "metadata": {},
     "output_type": "execute_result"
    }
   ],
   "source": [
    "#ans-3\n",
    "spam = [\"a\" , \"b\" , \"c\" , \"d\"]\n",
    "spam[int(int('3'*2)/11)]\n",
    "\n",
    "# \"d\""
   ]
  },
  {
   "cell_type": "code",
   "execution_count": 14,
   "id": "cf6a3249",
   "metadata": {},
   "outputs": [
    {
     "data": {
      "text/plain": [
       "'d'"
      ]
     },
     "execution_count": 14,
     "metadata": {},
     "output_type": "execute_result"
    }
   ],
   "source": [
    "#ans-4\n",
    "spam[-1]\n",
    "\n",
    "# \"d\""
   ]
  },
  {
   "cell_type": "code",
   "execution_count": 30,
   "id": "89f4070f",
   "metadata": {},
   "outputs": [
    {
     "data": {
      "text/plain": [
       "['a', 'b']"
      ]
     },
     "execution_count": 30,
     "metadata": {},
     "output_type": "execute_result"
    }
   ],
   "source": [
    "#ans-5\n",
    "spam[:2]"
   ]
  },
  {
   "cell_type": "code",
   "execution_count": 31,
   "id": "c06d8c97",
   "metadata": {},
   "outputs": [
    {
     "data": {
      "text/plain": [
       "1"
      ]
     },
     "execution_count": 31,
     "metadata": {},
     "output_type": "execute_result"
    }
   ],
   "source": [
    "#ans-6\n",
    "bacon = [3.14 , \"cat\" , 11 , \"cat\" , True]\n",
    "bacon.index(\"cat\")\n",
    "\n",
    "# 1"
   ]
  },
  {
   "cell_type": "code",
   "execution_count": 33,
   "id": "ab548e55",
   "metadata": {},
   "outputs": [
    {
     "name": "stdout",
     "output_type": "stream",
     "text": [
      "[3.14, 'cat', 11, 'cat', True]\n",
      "[3.14, 'cat', 11, 'cat', True, 99]\n"
     ]
    }
   ],
   "source": [
    "#Ans-7\n",
    "print(bacon)\n",
    "bacon.append(99)\n",
    "print(bacon)"
   ]
  },
  {
   "cell_type": "code",
   "execution_count": 35,
   "id": "b765995d",
   "metadata": {},
   "outputs": [
    {
     "name": "stdout",
     "output_type": "stream",
     "text": [
      "[3.14, 'cat', 11, 'cat', True, 99]\n",
      "[3.14, 11, 'cat', True, 99]\n"
     ]
    }
   ],
   "source": [
    "#ans- 8\n",
    "# it removes the first occurence\n",
    "print(bacon)\n",
    "bacon.remove(\"cat\") #\"removed the first occurence\n",
    "print(bacon)"
   ]
  },
  {
   "cell_type": "code",
   "execution_count": 4,
   "id": "36ad5356",
   "metadata": {},
   "outputs": [
    {
     "name": "stdout",
     "output_type": "stream",
     "text": [
      "[1, 2, 3, 4, 5, 6, 7, 8]\n",
      "[1, 2, 3, 4, 1, 2, 3, 4]\n"
     ]
    }
   ],
   "source": [
    "#ans -9\n",
    "# for concatenation + opreator\n",
    "# for replicstion * operator\n",
    "l = [1,2,3,4]\n",
    "l1 = [5,6,7,8]\n",
    "print(l+l1)\n",
    "print(l*2)"
   ]
  },
  {
   "cell_type": "code",
   "execution_count": 5,
   "id": "cd6e9a75",
   "metadata": {},
   "outputs": [],
   "source": [
    "#ans-10\n",
    "#append is used to add the data at the end of list\n",
    "#whereas insert is used the insert the data anywhere in the list"
   ]
  },
  {
   "cell_type": "code",
   "execution_count": 6,
   "id": "3d7c433b",
   "metadata": {},
   "outputs": [],
   "source": [
    "#Ans-11\n",
    "# del keyword and remove()"
   ]
  },
  {
   "cell_type": "code",
   "execution_count": 7,
   "id": "80a7d538",
   "metadata": {},
   "outputs": [],
   "source": [
    "#ans-12\n",
    "#both are in ordered sequence , can be replicated and concatenated "
   ]
  },
  {
   "cell_type": "code",
   "execution_count": 8,
   "id": "3559407c",
   "metadata": {},
   "outputs": [],
   "source": [
    "#ans-13\n",
    "# list are mutable represnted by[] while tuple are immutable represented by{}"
   ]
  },
  {
   "cell_type": "code",
   "execution_count": 18,
   "id": "be699c56",
   "metadata": {},
   "outputs": [
    {
     "name": "stdout",
     "output_type": "stream",
     "text": [
      "<class 'int'>\n",
      "<class 'tuple'>\n"
     ]
    }
   ],
   "source": [
    "#ANS-14\n",
    "# , is compulsary \n",
    "tup1 = (14)\n",
    "tup = (14,)\n",
    "print(type(tup1))\n",
    "print(type(tup))"
   ]
  },
  {
   "cell_type": "code",
   "execution_count": 19,
   "id": "c2c30930",
   "metadata": {},
   "outputs": [],
   "source": [
    "#ans-15\n",
    "# The tuple() and list() functions, respectively are used to convert a list to tuple and vice versa"
   ]
  },
  {
   "cell_type": "code",
   "execution_count": 20,
   "id": "6b182f53",
   "metadata": {},
   "outputs": [],
   "source": [
    "#ans-16 \n",
    "# reference to the list\n"
   ]
  },
  {
   "cell_type": "code",
   "execution_count": 25,
   "id": "85bc1ce1",
   "metadata": {},
   "outputs": [],
   "source": [
    "#ANS -17\n",
    "#copy() create reference to original object. If you change copied object - you change the original object. . deepcopy() creates new object and does real copying of original object to new one. Changing new deepcopied object doesn't affect original object\n",
    "# importing copy module\n"
   ]
  }
 ],
 "metadata": {
  "kernelspec": {
   "display_name": "Python 3 (ipykernel)",
   "language": "python",
   "name": "python3"
  },
  "language_info": {
   "codemirror_mode": {
    "name": "ipython",
    "version": 3
   },
   "file_extension": ".py",
   "mimetype": "text/x-python",
   "name": "python",
   "nbconvert_exporter": "python",
   "pygments_lexer": "ipython3",
   "version": "3.9.7"
  }
 },
 "nbformat": 4,
 "nbformat_minor": 5
}
