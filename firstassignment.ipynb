{
 "cells": [
  {
   "cell_type": "code",
   "execution_count": 5,
   "id": "b8009752",
   "metadata": {},
   "outputs": [],
   "source": [
    "#Question 1\n",
    "    #Ans\n",
    "    #Expression are = * , -87.5 ,/ , +(these are ganerally comination of operater and operand)\n",
    "    #value are =-87.8 , 6"
   ]
  },
  {
   "cell_type": "code",
   "execution_count": 3,
   "id": "43620425",
   "metadata": {},
   "outputs": [],
   "source": [
    "#Question 2\n",
    "    #Ans\n",
    "    #Variable is used to store data whereas String is the type of data"
   ]
  },
  {
   "cell_type": "code",
   "execution_count": null,
   "id": "f03e7654",
   "metadata": {},
   "outputs": [],
   "source": [
    "#question 3\n",
    "    #ans\n",
    "    #1 integer\n",
    "    #2 float\n",
    "    #3 boolean"
   ]
  },
  {
   "cell_type": "code",
   "execution_count": null,
   "id": "3589b72e",
   "metadata": {},
   "outputs": [],
   "source": [
    "#question 4\n",
    "    #Ans\n",
    "    #Expression are combination of operator and opearands . These are used to get some values \n",
    "    #eg arithmetic or logical etc"
   ]
  },
  {
   "cell_type": "code",
   "execution_count": null,
   "id": "6bde58aa",
   "metadata": {},
   "outputs": [],
   "source": [
    "#question 5\n",
    "#ans \n",
    "    #Assignment statement is generally a =(operator) that is used to give some data to the variable \n",
    "    #whereas expression is a combination of variables , operator that provides the result"
   ]
  },
  {
   "cell_type": "code",
   "execution_count": 9,
   "id": "cec95c64",
   "metadata": {},
   "outputs": [
    {
     "data": {
      "text/plain": [
       "23"
      ]
     },
     "execution_count": 9,
     "metadata": {},
     "output_type": "execute_result"
    }
   ],
   "source": [
    "#question 6\n",
    "    #Ans\n",
    "bacon = 22\n",
    "bacon + 1      #ans = 23)"
   ]
  },
  {
   "cell_type": "code",
   "execution_count": 10,
   "id": "76cf7985",
   "metadata": {},
   "outputs": [
    {
     "data": {
      "text/plain": [
       "'spamspamspam'"
      ]
     },
     "execution_count": 10,
     "metadata": {},
     "output_type": "execute_result"
    }
   ],
   "source": [
    "#question 7\n",
    "#ans\n",
    "'spam' + 'spamspam'"
   ]
  },
  {
   "cell_type": "code",
   "execution_count": 11,
   "id": "3182e877",
   "metadata": {},
   "outputs": [
    {
     "data": {
      "text/plain": [
       "'spamspamspam'"
      ]
     },
     "execution_count": 11,
     "metadata": {},
     "output_type": "execute_result"
    }
   ],
   "source": [
    "'spam'*3"
   ]
  },
  {
   "cell_type": "code",
   "execution_count": null,
   "id": "7584f86f",
   "metadata": {},
   "outputs": [],
   "source": [
    "#question 8\n",
    "#ans\n",
    "#because because variable name connot start with number"
   ]
  },
  {
   "cell_type": "code",
   "execution_count": null,
   "id": "02095391",
   "metadata": {},
   "outputs": [],
   "source": [
    "#question 9\n",
    "#Ans\n",
    "#int() , float() , str()"
   ]
  },
  {
   "cell_type": "code",
   "execution_count": 14,
   "id": "f7aefefb",
   "metadata": {},
   "outputs": [
    {
     "data": {
      "text/plain": [
       "'i have eaten 99 burritos'"
      ]
     },
     "execution_count": 14,
     "metadata": {},
     "output_type": "execute_result"
    }
   ],
   "source": [
    "#question 10\n",
    "#Ans \n",
    "#because 99 is an integer we need to convert it in string\n",
    "'i have eaten ' + str(99) + ' burritos'"
   ]
  },
  {
   "cell_type": "code",
   "execution_count": null,
   "id": "b77a95e3",
   "metadata": {},
   "outputs": [],
   "source": []
  }
 ],
 "metadata": {
  "kernelspec": {
   "display_name": "Python 3 (ipykernel)",
   "language": "python",
   "name": "python3"
  },
  "language_info": {
   "codemirror_mode": {
    "name": "ipython",
    "version": 3
   },
   "file_extension": ".py",
   "mimetype": "text/x-python",
   "name": "python",
   "nbconvert_exporter": "python",
   "pygments_lexer": "ipython3",
   "version": "3.9.7"
  }
 },
 "nbformat": 4,
 "nbformat_minor": 5
}
