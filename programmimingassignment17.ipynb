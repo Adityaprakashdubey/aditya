{
 "cells": [
  {
   "cell_type": "code",
   "execution_count": 18,
   "id": "6c6bdf88",
   "metadata": {},
   "outputs": [
    {
     "name": "stdout",
     "output_type": "stream",
     "text": [
      "(1, 10, 2) → 30\n",
      "(1, 10, 20) → 0\n"
     ]
    }
   ],
   "source": [
    "#ans-1\n",
    "def numbers(a,b,c):\n",
    "    l = []\n",
    "    for i in range(a,b+1):\n",
    "        if i % c == 0:\n",
    "            l.append(i)\n",
    "    \n",
    "    print((a,b,c) , \"→\",sum(l))\n",
    "        \n",
    "            \n",
    "        \n",
    "        \n",
    "   \n",
    "\n",
    "numbers(1,10,2)\n",
    "numbers(1,10,20)"
   ]
  },
  {
   "cell_type": "code",
   "execution_count": 22,
   "id": "c847d084",
   "metadata": {},
   "outputs": [
    {
     "name": "stdout",
     "output_type": "stream",
     "text": [
      "3 < 7 < 11 → True\n",
      "3 < 7 >11 → False\n"
     ]
    }
   ],
   "source": [
    "#ans-2\n",
    "def inequality(s):\n",
    "    output = eval(s)\n",
    "    print(f'{s} → {output}')\n",
    "inequality(\"3 < 7 < 11\")\n",
    "inequality(\"3 < 7 >11\")"
   ]
  },
  {
   "cell_type": "code",
   "execution_count": 37,
   "id": "0501aa3c",
   "metadata": {},
   "outputs": [
    {
     "name": "stdout",
     "output_type": "stream",
     "text": [
      "('aditya', '#') → #dity#\n"
     ]
    }
   ],
   "source": [
    "#ans-3\n",
    "def replace_vowel(s,c):\n",
    "    q = \"a,e,i,o,u,A,E,I,O,U\"\n",
    "    for i in range(len(s)):\n",
    "        if s[i] in q:\n",
    "            s1 = s.replace(s[i],c)\n",
    "    print(f'{s,c} → {s1}')\n",
    "replace_vowel(\"aditya\",\"#\")\n",
    "        "
   ]
  },
  {
   "cell_type": "code",
   "execution_count": 39,
   "id": "6437e691",
   "metadata": {},
   "outputs": [
    {
     "data": {
      "text/plain": [
       "120"
      ]
     },
     "execution_count": 39,
     "metadata": {},
     "output_type": "execute_result"
    }
   ],
   "source": [
    "#ans-4\n",
    "def factorial(n):\n",
    "    if n==0:\n",
    "        return 1\n",
    "    return n * factorial(n-1)\n",
    "\n",
    "\n",
    "#print(f'factorial(5) ➞ {factorial(5)}')\n",
    "#print(f'factorial(3) ➞ {factorial(3)}')\n",
    "#print(f'factorial(1) ➞ {factorial(1)}')\n",
    "#print(f'factorial(0) ➞ {factorial(0)}')"
   ]
  },
  {
   "cell_type": "code",
   "execution_count": 40,
   "id": "923c9736",
   "metadata": {},
   "outputs": [
    {
     "name": "stdout",
     "output_type": "stream",
     "text": [
      "('abcde', 'abcdf') → 1\n"
     ]
    }
   ],
   "source": [
    "#ans-5\n",
    "def hamming_distance(s,s1):\n",
    "    a = len(s)\n",
    "    b = len(s1)\n",
    "    count = 0\n",
    "    if a == b:\n",
    "        for i in range(len(s)):\n",
    "            if s[i] != s1[i]:\n",
    "                count+=1\n",
    "                \n",
    "    print(f'{s,s1} → {count}')\n",
    "        \n",
    "hamming_distance(\"abcde\",\"abcdf\")\n",
    "            \n",
    "            \n",
    "        \n",
    "    "
   ]
  },
  {
   "cell_type": "code",
   "execution_count": null,
   "id": "5b806188",
   "metadata": {},
   "outputs": [],
   "source": []
  }
 ],
 "metadata": {
  "kernelspec": {
   "display_name": "Python 3 (ipykernel)",
   "language": "python",
   "name": "python3"
  },
  "language_info": {
   "codemirror_mode": {
    "name": "ipython",
    "version": 3
   },
   "file_extension": ".py",
   "mimetype": "text/x-python",
   "name": "python",
   "nbconvert_exporter": "python",
   "pygments_lexer": "ipython3",
   "version": "3.9.7"
  }
 },
 "nbformat": 4,
 "nbformat_minor": 5
}
