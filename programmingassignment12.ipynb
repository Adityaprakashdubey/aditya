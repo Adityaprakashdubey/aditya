{
 "cells": [
  {
   "cell_type": "code",
   "execution_count": 2,
   "id": "3f7f623b",
   "metadata": {},
   "outputs": [
    {
     "name": "stdout",
     "output_type": "stream",
     "text": [
      "[2, 'dub']\n"
     ]
    }
   ],
   "source": [
    "#ans-1\n",
    "def Extract_Unique_values_dictionary_values(dic):\n",
    "    l = []\n",
    "    for i in dic.values():\n",
    "        if  i not in l:\n",
    "            l.append(i)\n",
    "    print(l)\n",
    "Extract_Unique_values_dictionary_values({\"adi\": 2 , \"name\" : \"dub\" , \"class\" : 2})"
   ]
  },
  {
   "cell_type": "code",
   "execution_count": null,
   "id": "0dcce9a9",
   "metadata": {},
   "outputs": [],
   "source": []
  },
  {
   "cell_type": "code",
   "execution_count": 65,
   "id": "acc544c0",
   "metadata": {},
   "outputs": [
    {
     "name": "stdout",
     "output_type": "stream",
     "text": [
      "5\n"
     ]
    }
   ],
   "source": [
    "#ans-2\n",
    "def sum_of_all_items_in_a_dictionary(dic):\n",
    "    total=0\n",
    "    for i in dic.values():\n",
    "        total = total + i\n",
    "    print(total)\n",
    "sum_of_all_items_in_a_dictionary({\"a\": 2,\"b\" : 3})\n",
    "    "
   ]
  },
  {
   "cell_type": "code",
   "execution_count": 84,
   "id": "cf812aa9",
   "metadata": {},
   "outputs": [
    {
     "name": "stdout",
     "output_type": "stream",
     "text": [
      "{'a': 1, 'b': 2, 'c': 'd'}\n"
     ]
    }
   ],
   "source": [
    "#ans -3\n",
    "def merge_two_dic(dic1 , dic2):\n",
    "    \n",
    "    di = dic1.update(dic2)\n",
    "    print(dic1)\n",
    "    \n",
    "merge_two_dic({\"a\": 1, \"b\" : 2},{\"c\": \"d\"})\n",
    "\n",
    "    "
   ]
  },
  {
   "cell_type": "code",
   "execution_count": 89,
   "id": "1674971b",
   "metadata": {},
   "outputs": [
    {
     "name": "stdout",
     "output_type": "stream",
     "text": [
      "{1: 'Jan', 2: 'Feb', 3: 'March'}\n"
     ]
    }
   ],
   "source": [
    "#ans-4\n",
    "from itertools import product\n",
    "def flat_dictionaries(dic1 ):\n",
    "    result = dict(zip(dic1[\"month\"] , dic1[\"name\"]))\n",
    "    print(result)\n",
    "\n",
    "flat_dictionaries({'month' : [1, 2, 3],\n",
    "             'name' : ['Jan', 'Feb', 'March']})\n",
    "    "
   ]
  },
  {
   "cell_type": "code",
   "execution_count": 15,
   "id": "46925d0a",
   "metadata": {},
   "outputs": [],
   "source": [
    "#ans-5\n",
    "from collections import OrderedDict\n",
    "def ordered(d1 , d2):\n",
    "    d1 = OrderedDict(d1)\n",
    "    result = OrderedDict(list(d2.items()) + list(d1.items()))\n",
    "    print(result)"
   ]
  },
  {
   "cell_type": "code",
   "execution_count": 16,
   "id": "544b2da6",
   "metadata": {},
   "outputs": [
    {
     "name": "stdout",
     "output_type": "stream",
     "text": [
      "OrderedDict([('Tesla', 'SpaceX'), ('Apple', 'Iphone'), ('Microsoft', 'Windows'), ('Google', 'chrome')])\n"
     ]
    }
   ],
   "source": [
    "ordered({'Apple':'Iphone','Microsoft':'Windows','Google':'chrome'},{'Tesla':'SpaceX'})"
   ]
  },
  {
   "cell_type": "code",
   "execution_count": 21,
   "id": "49b41f42",
   "metadata": {},
   "outputs": [
    {
     "data": {
      "text/plain": [
       "OrderedDict([('a', 121), ('b', 232), ('f', 'Sdsd')])"
      ]
     },
     "execution_count": 21,
     "metadata": {},
     "output_type": "execute_result"
    }
   ],
   "source": [
    "#ans-6\n",
    "from collections import OrderedDict\n",
    "def ordered1(d1):\n",
    "    final = OrderedDict(dict(sorted(d1.items())))\n",
    "    return final\n",
    "ordered1({\"a\":121 , \"f\":\"Sdsd\" , \"b\":232})"
   ]
  },
  {
   "cell_type": "code",
   "execution_count": 35,
   "id": "d52406f8",
   "metadata": {},
   "outputs": [
    {
     "name": "stdout",
     "output_type": "stream",
     "text": [
      "a: 121\n",
      "b: 232\n",
      "f: Sdsd\n"
     ]
    }
   ],
   "source": [
    "#ans7\n",
    "def sort_dict(d1):\n",
    "    for i in sorted(d1):\n",
    "        print(\"%s: %s\" %(i ,d1[i]) )\n",
    "sort_dict({\"a\":121 , \"f\":\"Sdsd\" , \"b\":232})\n",
    "        "
   ]
  },
  {
   "cell_type": "code",
   "execution_count": null,
   "id": "53983dd8",
   "metadata": {},
   "outputs": [],
   "source": []
  }
 ],
 "metadata": {
  "kernelspec": {
   "display_name": "Python 3 (ipykernel)",
   "language": "python",
   "name": "python3"
  },
  "language_info": {
   "codemirror_mode": {
    "name": "ipython",
    "version": 3
   },
   "file_extension": ".py",
   "mimetype": "text/x-python",
   "name": "python",
   "nbconvert_exporter": "python",
   "pygments_lexer": "ipython3",
   "version": "3.9.7"
  }
 },
 "nbformat": 4,
 "nbformat_minor": 5
}
