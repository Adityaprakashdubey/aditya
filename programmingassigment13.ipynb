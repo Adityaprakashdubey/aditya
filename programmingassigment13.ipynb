{
 "cells": [
  {
   "cell_type": "code",
   "execution_count": 8,
   "id": "3cf1b862",
   "metadata": {},
   "outputs": [
    {
     "name": "stdout",
     "output_type": "stream",
     "text": [
      "18,22,24\n"
     ]
    }
   ],
   "source": [
    "#ans-1\n",
    "from math import sqrt\n",
    "def formula(*D):\n",
    "    l = []\n",
    "    for i in D:\n",
    "        \n",
    "        \n",
    "        C = 50\n",
    "        H = 30\n",
    "        Q = str(int(sqrt((2*C*i)/H)))\n",
    "        l.append(Q)\n",
    "\n",
    "    \n",
    "    print(','.join(l))\n",
    "    \n",
    "        \n",
    "        \n",
    "formula(100,150,180)"
   ]
  },
  {
   "cell_type": "code",
   "execution_count": 165,
   "id": "65db67a5",
   "metadata": {},
   "outputs": [
    {
     "data": {
      "text/plain": [
       "[[0, 0, 0, 0], [0, 1, 2, 3], [0, 2, 4, 6]]"
      ]
     },
     "execution_count": 165,
     "metadata": {},
     "output_type": "execute_result"
    }
   ],
   "source": [
    "#ans-2\n",
    "def ans(row,column):\n",
    "    l = []\n",
    "    for i in range(row):\n",
    "        l.append([])\n",
    "        for j in range(column):\n",
    "            l[i].append(i*j)\n",
    "    return l\n",
    "\n",
    "ans(3,4)\n",
    "    "
   ]
  },
  {
   "cell_type": "code",
   "execution_count": 197,
   "id": "388d004b",
   "metadata": {},
   "outputs": [
    {
     "name": "stdout",
     "output_type": "stream",
     "text": [
      "bag,hello,without,world\n"
     ]
    }
   ],
   "source": [
    "#ans-3\n",
    "def string_sorted(s):\n",
    "    \n",
    "        z= sorted(s.split(','))\n",
    "        z = ','.join(z)\n",
    "        print(z)\n",
    "       \n",
    "string_sorted(\"without,hello,bag,world\")"
   ]
  },
  {
   "cell_type": "code",
   "execution_count": 249,
   "id": "030ca30f",
   "metadata": {},
   "outputs": [
    {
     "name": "stdout",
     "output_type": "stream",
     "text": [
      " again and hello makes perfect practice world\n"
     ]
    }
   ],
   "source": [
    "#ans-4\n",
    "def removing_same_words(s):\n",
    "    a = \"\"\n",
    "    for i in  s.split():\n",
    "        if i not in a:\n",
    "            a = a +\" \" + i\n",
    "    z= sorted(a.split(' '))\n",
    "    z = ' '.join(z)\n",
    "    \n",
    "    print(z)\n",
    "        \n",
    "removing_same_words(\"hello world and practice makes perfect and hello world again\")\n",
    "    "
   ]
  },
  {
   "cell_type": "code",
   "execution_count": 216,
   "id": "e899530d",
   "metadata": {},
   "outputs": [
    {
     "name": "stdout",
     "output_type": "stream",
     "text": [
      "letters is 10 and digits are 3:\n"
     ]
    }
   ],
   "source": [
    "#ans-5\n",
    "def calculate_the_number_of_letters_and_digits(s):\n",
    "    count = 0\n",
    "    count1 = 0\n",
    "    for i in s:\n",
    "        if i.isalpha():\n",
    "            count = count + 1\n",
    "        elif i.isdigit():\n",
    "            count1 = count1 +1\n",
    "    print(\"letters is {} and digits are {}:\".format(count,count1))\n",
    "        \n",
    "\n",
    "calculate_the_number_of_letters_and_digits(\"hello world! 123\")\n",
    "    "
   ]
  },
  {
   "cell_type": "code",
   "execution_count": 319,
   "id": "8d9eab7b",
   "metadata": {},
   "outputs": [
    {
     "data": {
      "text/plain": [
       "'ABd1234@1'"
      ]
     },
     "execution_count": 319,
     "metadata": {},
     "output_type": "execute_result"
    }
   ],
   "source": [
    "#ans-6\n",
    "def password(s):\n",
    "    special_char = \"#@$*\"\n",
    "    for i in s.split(\",\"):\n",
    "        if len(i)>=6 and len(i)<=50:\n",
    "            \n",
    "            if any(j.isupper() for j in i):\n",
    "                if any(j.islower() for j in i):\n",
    "                    if any(j.isdigit() for j in i):\n",
    "                        if any(j for j in i if j in special_char):\n",
    "                            return i\n",
    "                        \n",
    "                           \n",
    "                \n",
    "            \n",
    "           \n",
    "password(\"a F1#,2w3E*,2We3345,ABd1234@1\")"
   ]
  },
  {
   "cell_type": "code",
   "execution_count": 4,
   "id": "fc9be951",
   "metadata": {},
   "outputs": [
    {
     "ename": "NameError",
     "evalue": "name 'n' is not defined",
     "output_type": "error",
     "traceback": [
      "\u001b[1;31m---------------------------------------------------------------------------\u001b[0m",
      "\u001b[1;31mNameError\u001b[0m                                 Traceback (most recent call last)",
      "\u001b[1;32m~\\AppData\\Local\\Temp/ipykernel_41084/3703954240.py\u001b[0m in \u001b[0;36m<module>\u001b[1;34m\u001b[0m\n\u001b[1;32m----> 1\u001b[1;33m \u001b[0mstr\u001b[0m\u001b[1;33m(\u001b[0m\u001b[0mint\u001b[0m\u001b[1;33m(\u001b[0m\u001b[0mn\u001b[0m\u001b[1;33m)\u001b[0m\u001b[1;33m)\u001b[0m\u001b[1;33m\u001b[0m\u001b[1;33m\u001b[0m\u001b[0m\n\u001b[0m",
      "\u001b[1;31mNameError\u001b[0m: name 'n' is not defined"
     ]
    }
   ],
   "source": []
  },
  {
   "cell_type": "code",
   "execution_count": null,
   "id": "55b675b9",
   "metadata": {},
   "outputs": [],
   "source": []
  }
 ],
 "metadata": {
  "kernelspec": {
   "display_name": "Python 3 (ipykernel)",
   "language": "python",
   "name": "python3"
  },
  "language_info": {
   "codemirror_mode": {
    "name": "ipython",
    "version": 3
   },
   "file_extension": ".py",
   "mimetype": "text/x-python",
   "name": "python",
   "nbconvert_exporter": "python",
   "pygments_lexer": "ipython3",
   "version": "3.9.7"
  }
 },
 "nbformat": 4,
 "nbformat_minor": 5
}
