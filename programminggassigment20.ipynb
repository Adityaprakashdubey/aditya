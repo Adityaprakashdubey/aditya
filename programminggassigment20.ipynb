{
 "cells": [
  {
   "cell_type": "code",
   "execution_count": 6,
   "id": "49521366",
   "metadata": {},
   "outputs": [
    {
     "name": "stdout",
     "output_type": "stream",
     "text": [
      "[1, 2, 3, 5]\n"
     ]
    }
   ],
   "source": [
    "#ans-1\n",
    "def filter_string(l):\n",
    "    l1 = []\n",
    "    for i in l:\n",
    "        if type(i) == int:\n",
    "            l1.append(i)\n",
    "    \n",
    "    print(l1)\n",
    "filter_string([1,2,3,\"hg\",\"sgd\",5])"
   ]
  },
  {
   "cell_type": "code",
   "execution_count": 12,
   "id": "7b26d47f",
   "metadata": {},
   "outputs": [
    {
     "name": "stdout",
     "output_type": "stream",
     "text": [
      "output[1, 2, 3, 4, 9]= [1, 3, 5, 7, 13]\n"
     ]
    }
   ],
   "source": [
    "#ans-2\n",
    "def index_of_list_added_to_itself(l):\n",
    "    l1 = []\n",
    "    for i in l:\n",
    "        l1.append(i +l.index(i))\n",
    "    print(f'output{l}= {l1}')\n",
    "index_of_list_added_to_itself([1,2,3,4,5])"
   ]
  },
  {
   "cell_type": "code",
   "execution_count": 20,
   "id": "1dfba61c",
   "metadata": {},
   "outputs": [
    {
     "name": "stdout",
     "output_type": "stream",
     "text": [
      "volume(3, 2)= 12.57\n"
     ]
    }
   ],
   "source": [
    "#ans-3\n",
    "from math import pi\n",
    "def volume_of_cone(h,r):\n",
    "    out = (pi*pow(r,2))*(h/3)\n",
    "    print(f'volume{h,r}= {round(out,2)}')\n",
    "\n",
    "volume_of_cone(3,2)"
   ]
  },
  {
   "cell_type": "code",
   "execution_count": 47,
   "id": "3307317d",
   "metadata": {},
   "outputs": [
    {
     "name": "stdout",
     "output_type": "stream",
     "text": [
      "triangle=231\n",
      "triangle=23220\n"
     ]
    }
   ],
   "source": [
    "#ans-4\n",
    "def triangle(dots):\n",
    "    \n",
    "    for i in range(1,dots):\n",
    "        if dots == 1:\n",
    "            print(f'triangle={1}')\n",
    "        elif dots > 1:\n",
    "            dots = i + dots\n",
    "           \n",
    "    print(f'triangle={dots}')\n",
    "    \n",
    "    \n",
    "    \n",
    "triangle(21)\n",
    "triangle(215)\n",
    "              \n",
    "              "
   ]
  },
  {
   "cell_type": "code",
   "execution_count": 54,
   "id": "7362281a",
   "metadata": {},
   "outputs": [
    {
     "name": "stdout",
     "output_type": "stream",
     "text": [
      "[1, 2, 3, 4, 6, 7, 8, 9, 10]=5\n"
     ]
    }
   ],
   "source": [
    "#ans-5\n",
    "def exclude(a,b,n):\n",
    "    l  = []\n",
    "    for i in range(a,b+1):\n",
    "        l.append(i)\n",
    "    if n in l:\n",
    "        l.remove(n)\n",
    "    print(f'{l}={n}')\n",
    "exclude(1,10,5)\n",
    "        "
   ]
  },
  {
   "cell_type": "code",
   "execution_count": null,
   "id": "fa43c58f",
   "metadata": {},
   "outputs": [],
   "source": []
  }
 ],
 "metadata": {
  "kernelspec": {
   "display_name": "Python 3 (ipykernel)",
   "language": "python",
   "name": "python3"
  },
  "language_info": {
   "codemirror_mode": {
    "name": "ipython",
    "version": 3
   },
   "file_extension": ".py",
   "mimetype": "text/x-python",
   "name": "python",
   "nbconvert_exporter": "python",
   "pygments_lexer": "ipython3",
   "version": "3.9.7"
  }
 },
 "nbformat": 4,
 "nbformat_minor": 5
}
