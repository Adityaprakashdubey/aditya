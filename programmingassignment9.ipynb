{
 "cells": [
  {
   "cell_type": "code",
   "execution_count": 23,
   "id": "93ce4149",
   "metadata": {},
   "outputs": [
    {
     "name": "stdout",
     "output_type": "stream",
     "text": [
      "disarium\n",
      "not disarium\n"
     ]
    }
   ],
   "source": [
    "#ans-1\n",
    "def disarium_number(n):\n",
    "    a  = len(str(n))\n",
    "    sum  = 0\n",
    "    temp = n\n",
    "    count = 0\n",
    "    while(count < temp):\n",
    "        remainder = temp % 10\n",
    "        sum  = sum  + pow(remainder,a)\n",
    "        temp = temp //10\n",
    "        a = a-1\n",
    "    if sum == n:\n",
    "        print(\"disarium\")\n",
    "    else:\n",
    "        print(\"not disarium\")\n",
    "disarium_number(135)\n",
    "disarium_number(23)"
   ]
  },
  {
   "cell_type": "code",
   "execution_count": 30,
   "id": "4f3427bd",
   "metadata": {},
   "outputs": [],
   "source": [
    "#ans-2\n",
    "def disarium_number_between_1_to_100(a,b):\n",
    "    for i in range(1,100+1):\n",
    "        a = len(str(i))\n",
    "        sum = 0\n",
    "        temp = i\n",
    "        count = 0\n",
    "        while(count < temp):\n",
    "            remainder = temp % 10\n",
    "            sum  = sum  + pow(remainder,a)\n",
    "            temp = temp //10\n",
    "            a = a-1\n",
    "        if sum == i:\n",
    "            print(\"disarium\",i)\n",
    "        "
   ]
  },
  {
   "cell_type": "code",
   "execution_count": 31,
   "id": "d73fe753",
   "metadata": {},
   "outputs": [
    {
     "name": "stdout",
     "output_type": "stream",
     "text": [
      "disarium 1\n",
      "disarium 2\n",
      "disarium 3\n",
      "disarium 4\n",
      "disarium 5\n",
      "disarium 6\n",
      "disarium 7\n",
      "disarium 8\n",
      "disarium 9\n",
      "disarium 89\n"
     ]
    }
   ],
   "source": [
    "disarium_number_between_1_to_100(1,100)"
   ]
  },
  {
   "cell_type": "code",
   "execution_count": 25,
   "id": "eb443ed2",
   "metadata": {},
   "outputs": [
    {
     "name": "stdout",
     "output_type": "stream",
     "text": [
      "not happy number is :  2\n",
      "happy number is : 7\n"
     ]
    }
   ],
   "source": [
    "#ans-3\n",
    "def happy(n):\n",
    "    temp = n\n",
    "    s = 0\n",
    "    while s !=1 and s !=4:\n",
    "        s = 0\n",
    "        while(temp > 0):    \n",
    "            r = temp %10    \n",
    "            s += r**2  \n",
    "            temp //= 10\n",
    "        temp = s\n",
    "    if s == 1:\n",
    "        print(\"happy number is :\", n)\n",
    "    else: \n",
    "        print(\"not happy number is : \", n)\n",
    "happy(2) \n",
    "happy(7)"
   ]
  },
  {
   "cell_type": "code",
   "execution_count": 8,
   "id": "1868f28f",
   "metadata": {},
   "outputs": [
    {
     "name": "stdout",
     "output_type": "stream",
     "text": [
      "sum : 6\n",
      "123 is not harshad number\n"
     ]
    }
   ],
   "source": [
    "#ans-4 \n",
    "def harshad_number(n):\n",
    "    sum = 0\n",
    "    temp = n\n",
    "    while temp != 0:\n",
    "        rem  = temp % 10\n",
    "        sum  = sum  + rem\n",
    "        temp = temp //10\n",
    "    print(\"sum :\",sum)\n",
    "    if n % sum == 0 :\n",
    "        print(n , \"is harshad number\")\n",
    "    else :\n",
    "        print(n , \"is not harshad number\")\n",
    "\n",
    "        \n",
    "harshad_number(123)\n",
    "    \n",
    "    "
   ]
  },
  {
   "cell_type": "code",
   "execution_count": 33,
   "id": "d785d3a8",
   "metadata": {},
   "outputs": [
    {
     "name": "stdout",
     "output_type": "stream",
     "text": [
      "pronic number between 1 to 100\n",
      "2 6 12 20 30 42 56 72 90 "
     ]
    }
   ],
   "source": [
    "#ans - 5\n",
    "def pronic_number(n):\n",
    "    flag  = 0\n",
    "    for i in range(n+1):\n",
    "        if i*(i+1)==n:\n",
    "            flag  = 1\n",
    "            break\n",
    "    return flag\n",
    "\n",
    "\n",
    "\n",
    "print(\"pronic number between 1 to 100\")\n",
    "for i in range(1,100+1):\n",
    "    if(pronic_number(i)):\n",
    "        print(i , end = \" \")  \n",
    "\n",
    "\n",
    "    \n",
    "        \n",
    "        \n"
   ]
  },
  {
   "cell_type": "code",
   "execution_count": null,
   "id": "042b84f5",
   "metadata": {},
   "outputs": [],
   "source": []
  }
 ],
 "metadata": {
  "kernelspec": {
   "display_name": "Python 3 (ipykernel)",
   "language": "python",
   "name": "python3"
  },
  "language_info": {
   "codemirror_mode": {
    "name": "ipython",
    "version": 3
   },
   "file_extension": ".py",
   "mimetype": "text/x-python",
   "name": "python",
   "nbconvert_exporter": "python",
   "pygments_lexer": "ipython3",
   "version": "3.9.7"
  }
 },
 "nbformat": 4,
 "nbformat_minor": 5
}
