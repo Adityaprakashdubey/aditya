{
 "cells": [
  {
   "cell_type": "code",
   "execution_count": 24,
   "id": "524bd2f9",
   "metadata": {},
   "outputs": [
    {
     "name": "stdout",
     "output_type": "stream",
     "text": [
      "adityaaa\n",
      "dubey\n",
      "name\n"
     ]
    }
   ],
   "source": [
    "#ans-1\n",
    "def words_greater_than_lenght_k(string , k):\n",
    "   \n",
    "    for i in string.split(\" \"):\n",
    "        if len(i) > k:\n",
    "            print(i)\n",
    "\n",
    "words_greater_than_lenght_k(\"adityaaa dubey is my name\", 3)\n",
    "\n"
   ]
  },
  {
   "cell_type": "code",
   "execution_count": 32,
   "id": "f4b22977",
   "metadata": {},
   "outputs": [
    {
     "data": {
      "text/plain": [
       "'adiya'"
      ]
     },
     "execution_count": 32,
     "metadata": {},
     "output_type": "execute_result"
    }
   ],
   "source": [
    "#ans-2\n",
    "def removing_ith_character_from_string(string ,k):\n",
    "    for i in range(len(string)):\n",
    "        if i == k:\n",
    "            string  = string.replace(string[i],\"\")\n",
    "    return string\n",
    "        \n",
    "removing_ith_character_from_string(\"aditya\",3)"
   ]
  },
  {
   "cell_type": "code",
   "execution_count": 83,
   "id": "ffe35c2b",
   "metadata": {},
   "outputs": [
    {
     "name": "stdout",
     "output_type": "stream",
     "text": [
      "['my', 'name', 'is', 'adi']\n",
      "my - name - is - adi\n"
     ]
    }
   ],
   "source": [
    "#ans-3\n",
    "def split_and_join_string(string):\n",
    "\n",
    "    str  = string.split(' ')\n",
    "    \n",
    "    print(str)\n",
    "    \n",
    "    str2 = \" - \".join(str)\n",
    "    print(str2)\n",
    "    \n",
    "    \n",
    "    \n",
    "    \n",
    "   \n",
    "    \n",
    "split_and_join_string(\"my name is adi\")"
   ]
  },
  {
   "cell_type": "code",
   "execution_count": 109,
   "id": "10b2edb6",
   "metadata": {},
   "outputs": [
    {
     "data": {
      "text/plain": [
       "'binary'"
      ]
     },
     "execution_count": 109,
     "metadata": {},
     "output_type": "execute_result"
    }
   ],
   "source": [
    "#ans-4\n",
    "def string_binary_or_not(string):\n",
    "    \n",
    "    flag = 0\n",
    "    for i in string:\n",
    "        if i  == \"0\" or i == \"1\":\n",
    "            flag = 1\n",
    "            continue\n",
    "        else :\n",
    "            flag = 0\n",
    "            break\n",
    "    if flag == 1:\n",
    "        return \"binary\"\n",
    "    else:\n",
    "        return \"not\"\n",
    "        \n",
    "\n",
    "string_binary_or_not(\"0101\")\n",
    "            \n",
    "            "
   ]
  },
  {
   "cell_type": "code",
   "execution_count": 56,
   "id": "dc58458e",
   "metadata": {},
   "outputs": [
    {
     "data": {
      "text/plain": [
       "'  my adi your dub'"
      ]
     },
     "execution_count": 56,
     "metadata": {},
     "output_type": "execute_result"
    }
   ],
   "source": [
    "#ans-5\n",
    "def uncommon_words_from_two_strings(str1 , str2):\n",
    "    z = str1.split()\n",
    "    y = str2.split()\n",
    "    uc = \" \"\n",
    "    for i in z:\n",
    "        if i not in y:\n",
    "            uc  = uc + \" \" + i\n",
    "    for j in y:\n",
    "        if j not in z:\n",
    "            uc  = uc + \" \" + j\n",
    "    return uc\n",
    "            \n",
    "            \n",
    "uncommon_words_from_two_strings(\"my name is adi\" , \"your name is dub\")\n",
    "             \n",
    "    "
   ]
  },
  {
   "cell_type": "code",
   "execution_count": 74,
   "id": "3ff1c389",
   "metadata": {},
   "outputs": [
    {
     "name": "stdout",
     "output_type": "stream",
     "text": [
      "a\n",
      "d\n",
      "y\n",
      "a\n",
      " \n",
      "a\n",
      "a\n",
      "a\n",
      " \n",
      "d\n",
      "y\n",
      "  a d y\n"
     ]
    }
   ],
   "source": [
    "#ans-6\n",
    "def find_all_duplicates_character_in_string(string):\n",
    "    a = \" \"\n",
    "    for i in string:\n",
    "        if string.count(i) > 1:\n",
    "            if i not in a:\n",
    "                a  = a + \" \" + i\n",
    "    print(a)\n",
    "            \n",
    "    \n",
    "find_all_duplicates_character_in_string(\"adiotya parakash dubey\")"
   ]
  },
  {
   "cell_type": "code",
   "execution_count": 81,
   "id": "20c18133",
   "metadata": {},
   "outputs": [
    {
     "name": "stdout",
     "output_type": "stream",
     "text": [
      "[ ] @ # $\n"
     ]
    }
   ],
   "source": [
    "#ans-7\n",
    "def check_string_contain_special_character(string):\n",
    "    spe = \"[@_!#$%^&*()<>?/\\|}{~:]\"\n",
    "    l = []\n",
    "    for i in string:\n",
    "        if i in spe:\n",
    "            if i not in l:\n",
    "                l.append(i)\n",
    "            \n",
    "    print(*l)\n",
    "check_string_contain_special_character(\"adi[]@#$ffs@@\")\n",
    "            "
   ]
  },
  {
   "cell_type": "code",
   "execution_count": null,
   "id": "a40d0161",
   "metadata": {},
   "outputs": [],
   "source": []
  }
 ],
 "metadata": {
  "kernelspec": {
   "display_name": "Python 3 (ipykernel)",
   "language": "python",
   "name": "python3"
  },
  "language_info": {
   "codemirror_mode": {
    "name": "ipython",
    "version": 3
   },
   "file_extension": ".py",
   "mimetype": "text/x-python",
   "name": "python",
   "nbconvert_exporter": "python",
   "pygments_lexer": "ipython3",
   "version": "3.9.7"
  }
 },
 "nbformat": 4,
 "nbformat_minor": 5
}
