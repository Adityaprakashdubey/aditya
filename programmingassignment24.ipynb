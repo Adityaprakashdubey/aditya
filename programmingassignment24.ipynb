{
 "cells": [
  {
   "cell_type": "code",
   "execution_count": 10,
   "id": "ba852885",
   "metadata": {},
   "outputs": [
    {
     "name": "stdout",
     "output_type": "stream",
     "text": [
      "[1, 2, 3, 40]\n"
     ]
    }
   ],
   "source": [
    "#ans-1\n",
    "def amplify(n):\n",
    "    l = []\n",
    "    l1 = []\n",
    "    for i in range(1,n+1):\n",
    "        if i % 4== 0:\n",
    "            l.append(i*10)\n",
    "        else:\n",
    "            l.append(i)\n",
    "    print(l)\n",
    "    \n",
    "\n",
    "amplify(4)\n",
    "    "
   ]
  },
  {
   "cell_type": "code",
   "execution_count": 29,
   "id": "a346cddd",
   "metadata": {},
   "outputs": [
    {
     "name": "stdout",
     "output_type": "stream",
     "text": [
      "7\n"
     ]
    }
   ],
   "source": [
    "#ans-2\n",
    "def unique(l):\n",
    "    o = \"\"\n",
    "    charset = set()\n",
    "    for i in l:\n",
    "        charset.add(i)\n",
    "        \n",
    "        c = list(charset)\n",
    "        for j in c:\n",
    "            if j in l and j in c:\n",
    "                o = j\n",
    "    print(o)\n",
    "unique([3,3,3,7,3,3])"
   ]
  },
  {
   "cell_type": "code",
   "execution_count": 28,
   "id": "9bb7fd36",
   "metadata": {},
   "outputs": [
    {
     "name": "stdout",
     "output_type": "stream",
     "text": [
      "7\n",
      "0\n"
     ]
    }
   ],
   "source": [
    "#ans-2\n",
    "def unique1(l):\n",
    "    out = \"\"\n",
    "    for i in l:\n",
    "        if l.count(i) == 1:\n",
    "            out = i\n",
    "    print(out)\n",
    "unique1([3,3,3,7,3,3])\n",
    "unique1([0,1,1,1,1,1,1,1])"
   ]
  },
  {
   "cell_type": "code",
   "execution_count": 38,
   "id": "9362dd14",
   "metadata": {},
   "outputs": [
    {
     "name": "stdout",
     "output_type": "stream",
     "text": [
      "380.1327110843649\n",
      "27.9\n"
     ]
    }
   ],
   "source": [
    "#ans-3\n",
    "from math import pi\n",
    "class circle:\n",
    "    def __init__(self,r):\n",
    "        self.r = r\n",
    "    def getarea(self):\n",
    "        print(pi*self.r*self.r)\n",
    "    def getperimeter(self):\n",
    "        print(round(2 * pi*self.r,2))\n",
    "\n",
    "circle1 = circle(11)\n",
    "circle1.getarea()\n",
    "circle1 = circle(4.44)\n",
    "circle1.getperimeter()"
   ]
  },
  {
   "cell_type": "code",
   "execution_count": 102,
   "id": "7d442721",
   "metadata": {},
   "outputs": [
    {
     "name": "stdout",
     "output_type": "stream",
     "text": [
      "['apple', 'google', 'microsoft']\n",
      "['h', 'gfghfv', 'gyrytfyug', 'jhhfytdytrt6r']\n"
     ]
    }
   ],
   "source": [
    "#ans-4\n",
    "def asc(l):\n",
    "    out = sorted(l,key = len)\n",
    "    print(out)\n",
    "                \n",
    "asc([\"apple\",\"google\",\"microsoft\"])  \n",
    "asc([\"gfghfv\",\"gyrytfyug\",\"jhhfytdytrt6r\",\"h\"])"
   ]
  },
  {
   "cell_type": "code",
   "execution_count": 105,
   "id": "2d7becbd",
   "metadata": {},
   "outputs": [
    {
     "name": "stdout",
     "output_type": "stream",
     "text": [
      "True\n",
      "False\n"
     ]
    }
   ],
   "source": [
    "#ans-5\n",
    "def pythogorean(a,b,c):\n",
    "    x = a**2 + b**2\n",
    "    y = c**2\n",
    "    if (x == y):\n",
    "        print(True)\n",
    "    else:\n",
    "        print(False)\n",
    "pythogorean(3,4,5)  \n",
    "pythogorean(134,2,3)"
   ]
  },
  {
   "cell_type": "code",
   "execution_count": null,
   "id": "bc4ccb02",
   "metadata": {},
   "outputs": [],
   "source": []
  }
 ],
 "metadata": {
  "kernelspec": {
   "display_name": "Python 3 (ipykernel)",
   "language": "python",
   "name": "python3"
  },
  "language_info": {
   "codemirror_mode": {
    "name": "ipython",
    "version": 3
   },
   "file_extension": ".py",
   "mimetype": "text/x-python",
   "name": "python",
   "nbconvert_exporter": "python",
   "pygments_lexer": "ipython3",
   "version": "3.9.7"
  }
 },
 "nbformat": 4,
 "nbformat_minor": 5
}
