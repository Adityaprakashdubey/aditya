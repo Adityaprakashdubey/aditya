{
 "cells": [
  {
   "cell_type": "code",
   "execution_count": 1,
   "id": "0c800a35",
   "metadata": {},
   "outputs": [],
   "source": [
    "#1. Is the Python Standard Library included with PyInputPlus?\n",
    "# No"
   ]
  },
  {
   "cell_type": "code",
   "execution_count": 2,
   "id": "1d414c77",
   "metadata": {},
   "outputs": [],
   "source": [
    "#ans-2\n",
    "#You can import the module with import pyinputplus as pyip so that you can enter a shorter name when calling the module's functions."
   ]
  },
  {
   "cell_type": "code",
   "execution_count": 3,
   "id": "f8c03055",
   "metadata": {},
   "outputs": [],
   "source": [
    "#ans-3\n",
    "#inputInt() accepsts integer value while InputFloat() accepts floating value"
   ]
  },
  {
   "cell_type": "code",
   "execution_count": 4,
   "id": "140ca7c6",
   "metadata": {},
   "outputs": [
    {
     "name": "stdout",
     "output_type": "stream",
     "text": [
      "Requirement already satisfied: Pyinputplus in c:\\users\\91941\\anaconda3\\lib\\site-packages (0.2.12)\n",
      "Requirement already satisfied: stdiomask>=0.0.3 in c:\\users\\91941\\anaconda3\\lib\\site-packages (from Pyinputplus) (0.0.6)\n",
      "Requirement already satisfied: pysimplevalidate>=0.2.7 in c:\\users\\91941\\anaconda3\\lib\\site-packages (from Pyinputplus) (0.2.12)\n"
     ]
    }
   ],
   "source": [
    "!pip install Pyinputplus \n"
   ]
  },
  {
   "cell_type": "code",
   "execution_count": 5,
   "id": "fd93c75e",
   "metadata": {},
   "outputs": [
    {
     "name": "stdout",
     "output_type": "stream",
     "text": [
      "Enter a number: 6\n",
      "6\n"
     ]
    }
   ],
   "source": [
    "#ans-4\n",
    "import pyinputplus as pyip\n",
    "wholenumber = pyip.inputInt(prompt='Enter a number: ', min=0, max=100)\n",
    "print(wholenumber)"
   ]
  },
  {
   "cell_type": "code",
   "execution_count": null,
   "id": "b75dd9f1",
   "metadata": {},
   "outputs": [],
   "source": [
    "#ans-5\n",
    "pyip.inputStr(limit =3)\n",
    "#ValidationException and RetryLimitException as blanks str are not allowed\n"
   ]
  },
  {
   "cell_type": "code",
   "execution_count": 15,
   "id": "2e52e85f",
   "metadata": {},
   "outputs": [
    {
     "name": "stdout",
     "output_type": "stream",
     "text": [
      "\n",
      "Blank values are not allowed.\n",
      "\n",
      "Blank values are not allowed.\n",
      "\n",
      "Blank values are not allowed.\n"
     ]
    },
    {
     "data": {
      "text/plain": [
       "'hello'"
      ]
     },
     "execution_count": 15,
     "metadata": {},
     "output_type": "execute_result"
    }
   ],
   "source": [
    "#ans-7\n",
    "#Since the default parameter is set to hello. after blank input is entered three times instead of raising RetryLimitException exception. the function will return hello as response to the calling function\n",
    "pyip.inputStr(limit =3,default = \"hello\")"
   ]
  },
  {
   "cell_type": "code",
   "execution_count": null,
   "id": "5c7335b3",
   "metadata": {},
   "outputs": [],
   "source": []
  }
 ],
 "metadata": {
  "kernelspec": {
   "display_name": "Python 3 (ipykernel)",
   "language": "python",
   "name": "python3"
  },
  "language_info": {
   "codemirror_mode": {
    "name": "ipython",
    "version": 3
   },
   "file_extension": ".py",
   "mimetype": "text/x-python",
   "name": "python",
   "nbconvert_exporter": "python",
   "pygments_lexer": "ipython3",
   "version": "3.9.7"
  }
 },
 "nbformat": 4,
 "nbformat_minor": 5
}
