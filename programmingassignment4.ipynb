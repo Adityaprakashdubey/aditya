{
 "cells": [
  {
   "cell_type": "code",
   "execution_count": 15,
   "id": "7d6322e1",
   "metadata": {},
   "outputs": [
    {
     "name": "stdout",
     "output_type": "stream",
     "text": [
      "factorial of 6 is 720\n"
     ]
    }
   ],
   "source": [
    "#ans-1\n",
    "def factorial(n):\n",
    "    if n == 0 and n == 1:\n",
    "        return 1\n",
    "    else:\n",
    "        sum = 1\n",
    "        for i in range(1,n+1):\n",
    "            sum = sum*i\n",
    "        print(\"factorial of {} is {}\".format(n,sum))\n",
    "factorial(6)\n",
    "            \n",
    "        "
   ]
  },
  {
   "cell_type": "code",
   "execution_count": 24,
   "id": "0510aff3",
   "metadata": {},
   "outputs": [],
   "source": [
    "#ans-2\n",
    "def Display_the_multiplication_Table(n):\n",
    "    sum =1\n",
    "    for i in range(1,11):\n",
    "         print(\"{} * {} = {}\".format(n,i,n*i))\n",
    "        "
   ]
  },
  {
   "cell_type": "code",
   "execution_count": 26,
   "id": "50a3a0f5",
   "metadata": {},
   "outputs": [
    {
     "name": "stdout",
     "output_type": "stream",
     "text": [
      "5 * 1 = 5\n",
      "5 * 2 = 10\n",
      "5 * 3 = 15\n",
      "5 * 4 = 20\n",
      "5 * 5 = 25\n",
      "5 * 6 = 30\n",
      "5 * 7 = 35\n",
      "5 * 8 = 40\n",
      "5 * 9 = 45\n",
      "5 * 10 = 50\n"
     ]
    }
   ],
   "source": [
    "Display_the_multiplication_Table(5)"
   ]
  },
  {
   "cell_type": "code",
   "execution_count": 63,
   "id": "b05f0a34",
   "metadata": {},
   "outputs": [
    {
     "name": "stdout",
     "output_type": "stream",
     "text": [
      "0\n",
      "1\n",
      "1\n",
      "2\n",
      "3\n",
      "5\n",
      "8\n",
      "13\n",
      "total fibnacci : 34\n"
     ]
    }
   ],
   "source": [
    "#ans-3\n",
    "def fibonacci(n):\n",
    "    a= 0\n",
    "    b=1\n",
    "    if n == 0:\n",
    "        return a\n",
    "    elif n==1:\n",
    "        return b\n",
    "    else:\n",
    "        for i in range(1,n):\n",
    "            print(a)\n",
    "            c = a+b\n",
    "            a= b \n",
    "            b=c\n",
    "    print(\"total fibnacci :\" , c)\n",
    "fibonacci(9)          \n",
    "        "
   ]
  },
  {
   "cell_type": "code",
   "execution_count": 77,
   "id": "faeea4d8",
   "metadata": {},
   "outputs": [
    {
     "data": {
      "text/plain": [
       "'armstrong'"
      ]
     },
     "execution_count": 77,
     "metadata": {},
     "output_type": "execute_result"
    }
   ],
   "source": [
    "#nas-4\n",
    "def armstrong(n):\n",
    "    sum = 0\n",
    "    temp = n\n",
    "    a = len(str(n))\n",
    "    while(temp != 0):\n",
    "        remainder = temp % 10\n",
    "        sum = sum + remainder**a\n",
    "        temp= temp//10\n",
    "    if sum ==n:\n",
    "        return \"armstrong\"\n",
    "    else :\n",
    "        return \"not_armstrong\"\n",
    "armstrong(153)\n",
    "    \n"
   ]
  },
  {
   "cell_type": "code",
   "execution_count": 91,
   "id": "2bc3434f",
   "metadata": {},
   "outputs": [],
   "source": [
    "#ans -5\n",
    "def armstrong_number_in_interval(a,b):\n",
    "    for i in range(a,b+1):\n",
    "        a =  len(str(i))\n",
    "        temp = i\n",
    "        sum = 0\n",
    "        while(temp != 0):\n",
    "            remainder = temp % 10\n",
    "            sum = sum + remainder**a\n",
    "            temp= temp//10\n",
    "        if sum == i :\n",
    "            print(i)\n",
    "             \n",
    "        \n"
   ]
  },
  {
   "cell_type": "code",
   "execution_count": 93,
   "id": "f714ca5a",
   "metadata": {},
   "outputs": [
    {
     "name": "stdout",
     "output_type": "stream",
     "text": [
      "1\n",
      "2\n",
      "3\n",
      "4\n",
      "5\n",
      "6\n",
      "7\n",
      "8\n",
      "9\n",
      "153\n",
      "370\n",
      "371\n",
      "407\n",
      "1634\n"
     ]
    }
   ],
   "source": [
    "armstrong_number_in_interval(1,2000)"
   ]
  },
  {
   "cell_type": "code",
   "execution_count": 97,
   "id": "80f2f8ad",
   "metadata": {},
   "outputs": [
    {
     "name": "stdout",
     "output_type": "stream",
     "text": [
      "5050\n"
     ]
    }
   ],
   "source": [
    "#ans-5\n",
    "def sum_of_natural_number(n):\n",
    "    if n == 0:\n",
    "        print(\"enter natural number\")\n",
    "    else:\n",
    "        sum = 0\n",
    "        for i in range(n+1):\n",
    "            sum = sum +i\n",
    "        print(sum)\n",
    "sum_of_natural_number(100)"
   ]
  },
  {
   "cell_type": "code",
   "execution_count": 98,
   "id": "8406abb9",
   "metadata": {},
   "outputs": [
    {
     "name": "stdout",
     "output_type": "stream",
     "text": [
      "5050.0\n"
     ]
    }
   ],
   "source": [
    "#0R\n",
    "def sum_of_natural_number(num):\n",
    "    sum = num *(num +1)/2\n",
    "    print(sum)\n",
    "sum_of_natural_number(100)\n"
   ]
  },
  {
   "cell_type": "code",
   "execution_count": null,
   "id": "ede183d9",
   "metadata": {},
   "outputs": [],
   "source": []
  }
 ],
 "metadata": {
  "kernelspec": {
   "display_name": "Python 3 (ipykernel)",
   "language": "python",
   "name": "python3"
  },
  "language_info": {
   "codemirror_mode": {
    "name": "ipython",
    "version": 3
   },
   "file_extension": ".py",
   "mimetype": "text/x-python",
   "name": "python",
   "nbconvert_exporter": "python",
   "pygments_lexer": "ipython3",
   "version": "3.9.7"
  }
 },
 "nbformat": 4,
 "nbformat_minor": 5
}
