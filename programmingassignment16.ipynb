{
 "cells": [
  {
   "cell_type": "code",
   "execution_count": 1,
   "id": "c3b12f13",
   "metadata": {},
   "outputs": [
    {
     "name": "stdout",
     "output_type": "stream",
     "text": [
      "\"incredible\" → \"in. . . in. . . incredible?\"\n",
      "\"enthusiastic\" → \"en. . . en. . . enthusiastic?\"\n",
      "\"outstanding\" → \"ou. . . ou. . . outstanding?\"\n"
     ]
    }
   ],
   "source": [
    "\n",
    "#ans-1\n",
    "def slutter(*args):\n",
    "    for s in args:\n",
    "        output = (s[0:2] + \". . . \")*2 + s[::] + \"?\"\n",
    "        out= '\"' + output + '\"'\n",
    "        print(f'\"{s}\" → {out}')\n",
    "    \n",
    "slutter(\"incredible\",\"enthusiastic\",\"outstanding\")\n"
   ]
  },
  {
   "cell_type": "code",
   "execution_count": 2,
   "id": "566a2e77",
   "metadata": {},
   "outputs": [
    {
     "name": "stdout",
     "output_type": "stream",
     "text": [
      "57.29577951308232\n",
      "1145.9155902616465\n",
      "2864.7889756541163\n"
     ]
    }
   ],
   "source": [
    "#ans-2\n",
    "import math\n",
    "def angle_in_radian_to_degree(*n):\n",
    "    for i in n:\n",
    "        \n",
    "        output = (180/math.pi)*i\n",
    "        round(output,1)\n",
    "        print(output)\n",
    "angle_in_radian_to_degree(1,20,50)"
   ]
  },
  {
   "cell_type": "code",
   "execution_count": 3,
   "id": "574ddbdd",
   "metadata": {},
   "outputs": [
    {
     "data": {
      "text/plain": [
       "True"
      ]
     },
     "execution_count": 3,
     "metadata": {},
     "output_type": "execute_result"
    }
   ],
   "source": [
    "#ans-3\n",
    "def is_curzon(i):\n",
    "\n",
    "        output = pow(2,i) + 1\n",
    "        out = 2*i+1\n",
    "        if output % out == 0:\n",
    "            return True\n",
    "        else:\n",
    "            return False\n",
    "is_curzon(14)\n",
    "    \n"
   ]
  },
  {
   "cell_type": "code",
   "execution_count": 4,
   "id": "7c4ad9c6",
   "metadata": {},
   "outputs": [
    {
     "name": "stdout",
     "output_type": "stream",
     "text": [
      "2.6\n",
      "10.4\n",
      "23.4\n"
     ]
    }
   ],
   "source": [
    "#ans-4\n",
    "from math import sqrt\n",
    "def area_of_hexagon(*args):\n",
    "    for i in args:\n",
    "        area = (3*sqrt(3)*i*i)/2\n",
    "        print(round(area,1))\n",
    "        \n",
    "area_of_hexagon(1,2,3)"
   ]
  },
  {
   "cell_type": "code",
   "execution_count": 6,
   "id": "e9c4c6b1",
   "metadata": {},
   "outputs": [
    {
     "data": {
      "text/plain": [
       "'1010'"
      ]
     },
     "execution_count": 6,
     "metadata": {},
     "output_type": "execute_result"
    }
   ],
   "source": [
    "#ans-5\n",
    "def getBinary(n):\n",
    "    return bin(n).replace(\"0b\",\"\")\n",
    "    \n",
    "getBinary(10)"
   ]
  },
  {
   "cell_type": "code",
   "execution_count": null,
   "id": "34210c81",
   "metadata": {},
   "outputs": [],
   "source": []
  }
 ],
 "metadata": {
  "kernelspec": {
   "display_name": "Python 3 (ipykernel)",
   "language": "python",
   "name": "python3"
  },
  "language_info": {
   "codemirror_mode": {
    "name": "ipython",
    "version": 3
   },
   "file_extension": ".py",
   "mimetype": "text/x-python",
   "name": "python",
   "nbconvert_exporter": "python",
   "pygments_lexer": "ipython3",
   "version": "3.9.7"
  }
 },
 "nbformat": 4,
 "nbformat_minor": 5
}
