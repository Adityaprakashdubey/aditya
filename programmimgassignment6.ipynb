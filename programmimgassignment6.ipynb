{
 "cells": [
  {
   "cell_type": "code",
   "execution_count": 1,
   "id": "c821356b",
   "metadata": {},
   "outputs": [
    {
     "data": {
      "text/plain": [
       "13"
      ]
     },
     "execution_count": 1,
     "metadata": {},
     "output_type": "execute_result"
    }
   ],
   "source": [
    "#ans-1\n",
    "def fibonacci(n):\n",
    "    if n <= 1:\n",
    "        return 1\n",
    "    else:\n",
    "        return fibonacci(n-1) + fibonacci(n-2)\n",
    "    for i in range(1,n+1):\n",
    "        print(fibonacci(i))\n",
    "fibonacci(6)"
   ]
  },
  {
   "cell_type": "code",
   "execution_count": 1,
   "id": "a7d99293",
   "metadata": {},
   "outputs": [
    {
     "data": {
      "text/plain": [
       "120"
      ]
     },
     "execution_count": 1,
     "metadata": {},
     "output_type": "execute_result"
    }
   ],
   "source": [
    "#ans-2\n",
    "def factorial(n):\n",
    "    if n == 0:\n",
    "        return 1\n",
    "    else :\n",
    "        return n*factorial(n-1)\n",
    "    \n",
    "factorial(5)"
   ]
  },
  {
   "cell_type": "code",
   "execution_count": 10,
   "id": "ac0ac3a4",
   "metadata": {},
   "outputs": [
    {
     "name": "stdout",
     "output_type": "stream",
     "text": [
      "a person of 74 weight on kg and 1.73 height in meter has bmi : 24.725182932941294  and healthy \n"
     ]
    }
   ],
   "source": [
    "#ans-3\n",
    "def BMI(height , weight):\n",
    "    mass = weight/pow(height,2)\n",
    "    if mass < 18.5:\n",
    "        status = \"underweight\"\n",
    "    elif mass >= 18.5 and mass <=24.9:\n",
    "        status = \"healthy\"\n",
    "    elif mass >= 24.9 and mass <=30:\n",
    "        status = \"overweight\"\n",
    "    else:\n",
    "        status  = \"obesity\"\n",
    "    print(\"a person of {} weight on kg and {} height in meter has bmi : {}  and {} \".format(weight,height,mass,status))\n",
    "BMI(1.73,74)"
   ]
  },
  {
   "cell_type": "code",
   "execution_count": 25,
   "id": "071a2a0c",
   "metadata": {},
   "outputs": [
    {
     "name": "stdout",
     "output_type": "stream",
     "text": [
      "log of number is 3.9889840465642745\n"
     ]
    }
   ],
   "source": [
    "#ans-4 \n",
    "import math \n",
    "def logarithm(n):\n",
    "    print(\"log of number is\", math.log(n))\n",
    "logarithm(54)"
   ]
  },
  {
   "cell_type": "code",
   "execution_count": 33,
   "id": "3d358fff",
   "metadata": {},
   "outputs": [
    {
     "name": "stdout",
     "output_type": "stream",
     "text": [
      "100\n",
      "100\n"
     ]
    }
   ],
   "source": [
    "#ans-5\n",
    "def cubeofnaturalnumbers(n):\n",
    "    sum  = 0\n",
    "    for i in range(1,n+1):\n",
    "        sum = sum + pow(i,3)\n",
    "    print(sum)\n",
    "cubeofnaturalnumbers(4)\n",
    "\n",
    "\n",
    "\n",
    "#or\n",
    "def cubeofnaturalnumbers1(n):\n",
    "    sum = (n*n*pow(n+1,2))//4\n",
    "    print(sum)\n",
    "cubeofnaturalnumbers1(4)\n"
   ]
  },
  {
   "cell_type": "code",
   "execution_count": null,
   "id": "c36b355c",
   "metadata": {},
   "outputs": [],
   "source": []
  },
  {
   "cell_type": "code",
   "execution_count": null,
   "id": "acae9f11",
   "metadata": {},
   "outputs": [],
   "source": []
  }
 ],
 "metadata": {
  "kernelspec": {
   "display_name": "Python 3 (ipykernel)",
   "language": "python",
   "name": "python3"
  },
  "language_info": {
   "codemirror_mode": {
    "name": "ipython",
    "version": 3
   },
   "file_extension": ".py",
   "mimetype": "text/x-python",
   "name": "python",
   "nbconvert_exporter": "python",
   "pygments_lexer": "ipython3",
   "version": "3.9.7"
  }
 },
 "nbformat": 4,
 "nbformat_minor": 5
}
