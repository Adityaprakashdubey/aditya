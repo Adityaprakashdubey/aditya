{
 "cells": [
  {
   "cell_type": "code",
   "execution_count": 8,
   "id": "4b18aa84",
   "metadata": {},
   "outputs": [
    {
     "name": "stdout",
     "output_type": "stream",
     "text": [
      "0 7 14 21 28 35 42 49 56 63 70 77 84 91 98 105 112 119 126 133 140 147 154 161 168 175 182 189 196 "
     ]
    }
   ],
   "source": [
    "#ans-1\n",
    "class generator:\n",
    "    def __init__(self , n):\n",
    "        self.n = n\n",
    "    def division(self):\n",
    "        for i in range(0,self.n+1):\n",
    "            if i%7 == 0:\n",
    "                \n",
    "                 print(i,end =\" \")\n",
    "                \n",
    "out = generator(200)\n",
    "out.division()\n",
    "\n",
    "        \n",
    "        "
   ]
  },
  {
   "cell_type": "code",
   "execution_count": 72,
   "id": "ca818b4e",
   "metadata": {},
   "outputs": [
    {
     "name": "stdout",
     "output_type": "stream",
     "text": [
      "2 : 2\n",
      "3 : 2\n",
      "3? : 1\n",
      "New : 1\n",
      "Python : 5\n",
      "Read : 1\n",
      "and : 1\n",
      "between : 1\n",
      "choosing : 1\n",
      "or : 2\n",
      "to : 1\n"
     ]
    }
   ],
   "source": [
    "#ans-2\n",
    "def compute_frequency_of_words_and_sort(s):\n",
    "    l = []\n",
    "    \n",
    "    z = sorted(s.split())\n",
    "    for i in z:\n",
    "        if i not in l:\n",
    "            l.append(i)\n",
    "    for j in range(len(l)):\n",
    "        print(l[j],\":\",s.count(l[j]))\n",
    "        \n",
    "        \n",
    "compute_frequency_of_words_and_sort(\"New to Python or choosing between Python 2 and Python 3? Read Python 2 or Python 3\")\n",
    "        \n",
    "        \n",
    "        "
   ]
  },
  {
   "cell_type": "code",
   "execution_count": 190,
   "id": "1b0d814a",
   "metadata": {},
   "outputs": [
    {
     "name": "stdout",
     "output_type": "stream",
     "text": [
      "male\n",
      "female\n"
     ]
    }
   ],
   "source": [
    "#ans-3\n",
    "class person:\n",
    "    def getgender():\n",
    "        pass\n",
    "class male(person):\n",
    "    def getgender():\n",
    "        print(\"male\")\n",
    "class female(person):\n",
    "    def getgender():\n",
    "        print(\"female\")\n",
    "male.getgender()\n",
    "female.getgender()\n",
    "    "
   ]
  },
  {
   "cell_type": "code",
   "execution_count": 88,
   "id": "ef22bcb7",
   "metadata": {},
   "outputs": [
    {
     "name": "stdout",
     "output_type": "stream",
     "text": [
      "I PLAY HOCKEY\n",
      "I PLAY FOTBALL\n",
      "I LOVE HOCKEY\n",
      "I LOVE FOTBALL\n",
      "YOU PLAY HOCKEY\n",
      "YOU PLAY FOTBALL\n",
      "YOU LOVE HOCKEY\n",
      "YOU LOVE FOTBALL\n"
     ]
    }
   ],
   "source": [
    "#ans-4\n",
    "def adj(s,s1,s2):\n",
    "    for i in s:\n",
    "        for j in s1:\n",
    "            for k in s2:\n",
    "                print(i,j,k)\n",
    "adj([\"I\",\"YOU\"],[\"PLAY\",\"LOVE\"],[\"HOCKEY\",\"FOTBALL\"])\n",
    "                "
   ]
  },
  {
   "cell_type": "code",
   "execution_count": 119,
   "id": "b696daaa",
   "metadata": {},
   "outputs": [
    {
     "name": "stdout",
     "output_type": "stream",
     "text": [
      "compress : b'x\\x9c\\xcbH\\xcd\\xc9\\xc9W(\\xcf/\\xcaIQ\\xcc \\x82\\r\\x00\\xbd[\\x11\\xf5'\n",
      "decompress : b'hello world!hello world!hello world!hello world!'\n"
     ]
    }
   ],
   "source": [
    "#ans-5\n",
    "import zlib\n",
    "def string(s):\n",
    "    comp = zlib.compress(s.encode())\n",
    "    decom = zlib.decompress(comp)\n",
    "    print(\"compress :\",comp)\n",
    "    print(\"decompress :\",decom)\n",
    "\n",
    "string(\"hello world!hello world!hello world!hello world!\")\n",
    "    "
   ]
  },
  {
   "cell_type": "code",
   "execution_count": 187,
   "id": "8ab1072a",
   "metadata": {},
   "outputs": [
    {
     "name": "stdout",
     "output_type": "stream",
     "text": [
      "[1, 3, 4, 7, 8, 9, 54, 67]\n"
     ]
    },
    {
     "data": {
      "text/plain": [
       "1"
      ]
     },
     "execution_count": 187,
     "metadata": {},
     "output_type": "execute_result"
    }
   ],
   "source": [
    "#ans-6\n",
    "def index_of_element_in_sorted_list(z,ele):\n",
    "    z.sort()\n",
    "    print(z)\n",
    "    low = 0\n",
    "    high = len(z)-1\n",
    "    while low <= high:\n",
    "        mid =(low+high)//2\n",
    "        if ele == z[mid]:\n",
    "            return mid \n",
    "        \n",
    "        elif ele > z[mid] :\n",
    "            low = mid+1\n",
    "        elif ele < z[mid] :\n",
    "            high = mid- 1\n",
    "    else:\n",
    "        return \"not found\"\n",
    "       \n",
    "    print(mid)\n",
    "    \n",
    "index_of_element_in_sorted_list([1,4,3,54,67,9,8,7,],3)"
   ]
  },
  {
   "cell_type": "code",
   "execution_count": null,
   "id": "c338d137",
   "metadata": {},
   "outputs": [],
   "source": []
  }
 ],
 "metadata": {
  "kernelspec": {
   "display_name": "Python 3 (ipykernel)",
   "language": "python",
   "name": "python3"
  },
  "language_info": {
   "codemirror_mode": {
    "name": "ipython",
    "version": 3
   },
   "file_extension": ".py",
   "mimetype": "text/x-python",
   "name": "python",
   "nbconvert_exporter": "python",
   "pygments_lexer": "ipython3",
   "version": "3.9.7"
  }
 },
 "nbformat": 4,
 "nbformat_minor": 5
}
