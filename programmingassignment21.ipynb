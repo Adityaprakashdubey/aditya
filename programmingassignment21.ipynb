{
 "cells": [
  {
   "cell_type": "code",
   "execution_count": 7,
   "id": "e3af1b0e",
   "metadata": {},
   "outputs": [
    {
     "name": "stdout",
     "output_type": "stream",
     "text": [
      "output = [6, 7, 8, 9, 1]\n"
     ]
    }
   ],
   "source": [
    "#ans-1\n",
    "def remove_add(l,n):\n",
    "    l.append(n)\n",
    "    i = l[0]\n",
    "    \n",
    "        \n",
    "    l.remove(i)\n",
    "    print(f'output = {l}')\n",
    "remove_add([5,6,7,8,9],1)"
   ]
  },
  {
   "cell_type": "code",
   "execution_count": 60,
   "id": "e0b38e0a",
   "metadata": {},
   "outputs": [
    {
     "name": "stdout",
     "output_type": "stream",
     "text": [
      "65700\n"
     ]
    }
   ],
   "source": [
    "#ans-2\n",
    "def budgetsum(l):\n",
    "    \n",
    "    sum = 0\n",
    "    for j in l:\n",
    "        if type(j)==dict:\n",
    "            for i in j.keys():\n",
    "                #print(i)\n",
    "                if i == \"budget\":\n",
    "                    sum = sum + j[i]\n",
    "    print(sum)\n",
    "            \n",
    "budgetsum([{ \"name\": \"John\", \"age\": 21, \"budget\": 23000 },\n",
    "{ \"name\": \"Steve\", \"age\": 32, \"budget\": 40000 },\n",
    "{ \"name\": \"Martin\", \"age\": 16, \"budget\": 2700 }])        \n",
    "        "
   ]
  },
  {
   "cell_type": "code",
   "execution_count": 72,
   "id": "a8602609",
   "metadata": {},
   "outputs": [
    {
     "name": "stdout",
     "output_type": "stream",
     "text": [
      "ehllo\n"
     ]
    }
   ],
   "source": [
    "#ans-3\n",
    "def string_order(n):\n",
    "    z = \"\".join(sorted(n))\n",
    "    print(z)\n",
    "string_order(\"hello\")\n"
   ]
  },
  {
   "cell_type": "code",
   "execution_count": 77,
   "id": "33d01dbb",
   "metadata": {},
   "outputs": [
    {
     "name": "stdout",
     "output_type": "stream",
     "text": [
      "18193.97\n"
     ]
    }
   ],
   "source": [
    "#ans-4\n",
    "def compund_interest(p,t,r,n):\n",
    "\n",
    "    amount = p*pow((1+(r/100/n)),n*t)\n",
    "    print(round(amount,2))\n",
    "compund_interest(10000,10,6,12)"
   ]
  },
  {
   "cell_type": "code",
   "execution_count": 78,
   "id": "d7f581b9",
   "metadata": {},
   "outputs": [
    {
     "name": "stdout",
     "output_type": "stream",
     "text": [
      "[9, 2, 16]\n"
     ]
    }
   ],
   "source": [
    "#ans-5\n",
    "def only_int(l):\n",
    "    l1 = []\n",
    "    for i in l:\n",
    "        if type(i) == int:\n",
    "            l1.append(i)\n",
    "    print(l1)\n",
    "only_int([9,2,\"space\",\"ghc\",16])"
   ]
  },
  {
   "cell_type": "code",
   "execution_count": null,
   "id": "05f4c4fc",
   "metadata": {},
   "outputs": [],
   "source": []
  }
 ],
 "metadata": {
  "kernelspec": {
   "display_name": "Python 3 (ipykernel)",
   "language": "python",
   "name": "python3"
  },
  "language_info": {
   "codemirror_mode": {
    "name": "ipython",
    "version": 3
   },
   "file_extension": ".py",
   "mimetype": "text/x-python",
   "name": "python",
   "nbconvert_exporter": "python",
   "pygments_lexer": "ipython3",
   "version": "3.9.7"
  }
 },
 "nbformat": 4,
 "nbformat_minor": 5
}
